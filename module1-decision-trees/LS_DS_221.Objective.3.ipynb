{
 "cells": [
  {
   "cell_type": "code",
   "execution_count": 1,
   "id": "6e3c5bec",
   "metadata": {},
   "outputs": [],
   "source": [
    "# Imports!\n",
    "from sklearn.compose import ColumnTransformer\n",
    "from sklearn.pipeline import Pipeline\n",
    "from sklearn.preprocessing import OneHotEncoder\n",
    "\n",
    "# Use the decision tree classifier \n",
    "from sklearn.tree import DecisionTreeClassifier\n",
    "from sklearn.model_selection import train_test_split\n",
    "\n",
    "# Set-up the one-hot encoder method\n",
    "categorical_features = ['species']\n",
    "categorical_transformer = Pipeline(steps=[('onehot', OneHotEncoder())])\n",
    "\n",
    "# Set up our preprocessor/column transformer\n",
    "preprocessor = ColumnTransformer(\n",
    "    transformers=[\n",
    "        ('cat', categorical_transformer, categorical_features)])\n",
    "\n",
    "# Add the classifier to the preprocessing pipeline\n",
    "pipeline = Pipeline(steps=[('preprocessor', preprocessor),\n",
    "                      ('classifier', DecisionTreeClassifier())])"
   ]
  },
  {
   "cell_type": "code",
   "execution_count": 2,
   "id": "dd49117e",
   "metadata": {},
   "outputs": [
    {
     "name": "stdout",
     "output_type": "stream",
     "text": [
      "model score: 0.417\n"
     ]
    }
   ],
   "source": [
    "# Load in the data!\n",
    "\n",
    "import pandas as pd\n",
    "import seaborn as sns\n",
    "\n",
    "penguins = sns.load_dataset(\"penguins\")\n",
    "penguins.dropna(inplace=True)\n",
    "\n",
    "# Select features\n",
    "features = ['species', 'bill_length_mm', 'bill_depth_mm', 'flipper_length_mm', 'body_mass_g']\n",
    "X = penguins[features]\n",
    "\n",
    "# Encode the 'sex' column\n",
    "from sklearn import preprocessing\n",
    "le = preprocessing.LabelEncoder()\n",
    "penguins['sex_encode'] = le.fit_transform(penguins['sex'])\n",
    "\n",
    "# Set target array\n",
    "y = penguins['sex_encode']\n",
    "\n",
    "# Apply the pipeline\n",
    "\n",
    "# Separate into training and testing sets\n",
    "X_train, X_test, y_train, y_test = train_test_split(X, y, test_size=0.25)\n",
    "\n",
    "# Fit the model with our logistic regression classifier\n",
    "pipeline.fit(X_train, y_train)\n",
    "print(\"model score: %.3f\" % pipeline.score(X_test, y_test))"
   ]
  },
  {
   "cell_type": "code",
   "execution_count": null,
   "id": "8ecadb27",
   "metadata": {},
   "outputs": [],
   "source": []
  }
 ],
 "metadata": {
  "kernelspec": {
   "display_name": "Python 3 (ipykernel)",
   "language": "python",
   "name": "python3"
  },
  "language_info": {
   "codemirror_mode": {
    "name": "ipython",
    "version": 3
   },
   "file_extension": ".py",
   "mimetype": "text/x-python",
   "name": "python",
   "nbconvert_exporter": "python",
   "pygments_lexer": "ipython3",
   "version": "3.9.6"
  }
 },
 "nbformat": 4,
 "nbformat_minor": 5
}
