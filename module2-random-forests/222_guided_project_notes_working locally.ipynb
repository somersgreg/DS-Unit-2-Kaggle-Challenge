{
 "cells": [
  {
   "cell_type": "markdown",
   "metadata": {
    "id": "NvWhcow-dvS8"
   },
   "source": [
    "# Random Forests\n",
    "\n",
    "- use scikit-learn for **random forests**\n",
    "- do **ordinal encoding** with high-cardinality categoricals\n",
    "- understand how categorical encodings affect trees differently compared to linear models\n",
    "- understand how tree ensembles reduce overfitting compared to a single decision tree with unlimited depth"
   ]
  },
  {
   "cell_type": "code",
   "execution_count": 1,
   "metadata": {
    "id": "HRgkCSgGdty-"
   },
   "outputs": [],
   "source": [
    "#%%capture\n",
    "\n",
    "#import sys\n",
    "\n",
    "# If you're on Colab:\n",
    "#if 'google.colab' in sys.modules:\n",
    "#    DATA_PATH = 'https://raw.githubusercontent.com/LambdaSchool/DS-Unit-2-Kaggle-Challenge/master/data/'\n",
    "#    !pip install category_encoders==2.*\n",
    "\n",
    "# If you're working locally:\n",
    "#else:\n",
    "#    DATA_PATH = '../data/'"
   ]
  },
  {
   "cell_type": "code",
   "execution_count": 2,
   "metadata": {
    "id": "fxzmPFOuBtmo"
   },
   "outputs": [],
   "source": [
    "#Y = mx + b\n",
    "#Y = M1X1 M2X2 + b\n",
    "#Y = M1X1 M2X2 + M3X1X2 + b\n",
    "#Y = M1X1^2 M2X2 + M3X1X2 + b"
   ]
  },
  {
   "cell_type": "code",
   "execution_count": 5,
   "metadata": {
    "id": "3N2pqwWBQgZO"
   },
   "outputs": [
    {
     "name": "stdout",
     "output_type": "stream",
     "text": [
      "Collecting category_encoders==2.*\n",
      "  Downloading category_encoders-2.2.2-py2.py3-none-any.whl (80 kB)\n",
      "Requirement already satisfied: scipy>=1.0.0 in c:\\users\\vignesh\\anaconda3\\lib\\site-packages (from category_encoders==2.*) (1.4.1)\n",
      "Requirement already satisfied: patsy>=0.5.1 in c:\\users\\vignesh\\anaconda3\\lib\\site-packages (from category_encoders==2.*) (0.5.1)\n",
      "Requirement already satisfied: statsmodels>=0.9.0 in c:\\users\\vignesh\\anaconda3\\lib\\site-packages (from category_encoders==2.*) (0.11.1)\n",
      "Requirement already satisfied: numpy>=1.14.0 in c:\\users\\vignesh\\anaconda3\\lib\\site-packages (from category_encoders==2.*) (1.18.1)\n",
      "Requirement already satisfied: scikit-learn>=0.20.0 in c:\\users\\vignesh\\anaconda3\\lib\\site-packages (from category_encoders==2.*) (0.23.0)\n",
      "Requirement already satisfied: pandas>=0.21.1 in c:\\users\\vignesh\\anaconda3\\lib\\site-packages (from category_encoders==2.*) (1.0.3)\n",
      "Requirement already satisfied: six in c:\\users\\vignesh\\anaconda3\\lib\\site-packages (from patsy>=0.5.1->category_encoders==2.*) (1.15.0)\n",
      "Requirement already satisfied: joblib>=0.11 in c:\\users\\vignesh\\anaconda3\\lib\\site-packages (from scikit-learn>=0.20.0->category_encoders==2.*) (0.15.1)\n",
      "Requirement already satisfied: threadpoolctl>=2.0.0 in c:\\users\\vignesh\\anaconda3\\lib\\site-packages (from scikit-learn>=0.20.0->category_encoders==2.*) (2.0.0)\n",
      "Requirement already satisfied: python-dateutil>=2.6.1 in c:\\users\\vignesh\\anaconda3\\lib\\site-packages (from pandas>=0.21.1->category_encoders==2.*) (2.8.1)\n",
      "Requirement already satisfied: pytz>=2017.2 in c:\\users\\vignesh\\anaconda3\\lib\\site-packages (from pandas>=0.21.1->category_encoders==2.*) (2020.1)\n",
      "Installing collected packages: category-encoders\n",
      "Successfully installed category-encoders-2.2.2\n"
     ]
    }
   ],
   "source": [
    "!pip install category_encoders==2.*\n",
    "#!pip install pandas_profiling==2.*"
   ]
  },
  {
   "cell_type": "code",
   "execution_count": 18,
   "metadata": {
    "id": "BiJT7wGsuXcG"
   },
   "outputs": [],
   "source": [
    "from category_encoders import OrdinalEncoder\n",
    "from sklearn.ensemble import RandomForestClassifier\n",
    "from sklearn.impute import SimpleImputer\n",
    "from sklearn.preprocessing import StandardScaler\n",
    "from sklearn.model_selection import train_test_split\n",
    "from sklearn.pipeline import make_pipeline\n",
    "from sklearn.tree import DecisionTreeClassifier\n",
    "from sklearn.linear_model import LogisticRegression\n",
    "from sklearn.ensemble import RandomForestClassifier\n",
    "\n",
    "import matplotlib.pyplot as plt\n",
    "import pandas as pd\n",
    "import numpy as np\n",
    "from pathlib import Path\n",
    "import os\n"
   ]
  },
  {
   "cell_type": "code",
   "execution_count": 26,
   "metadata": {},
   "outputs": [],
   "source": [
    "#Set home directory to the home directory of current user\n",
    "home_dir = Path.home()\n",
    "\n",
    "# set 'main_dir' to the Unit 2 folder\n",
    "main_dir = home_dir / \"Desktop\" / \"Unit 2\"\n",
    "\n",
    "data_dir = main_dir / \"data\"\n",
    "\n",
    "plot_dir = main_dir / \"plots\"\n",
    "\n",
    "outputs = main_dir / \"outputs\"\n"
   ]
  },
  {
   "cell_type": "code",
   "execution_count": 35,
   "metadata": {},
   "outputs": [
    {
     "data": {
      "text/plain": [
       "'C:\\\\Users\\\\VIgnesh\\\\Desktop\\\\Unit 2\\\\data'"
      ]
     },
     "execution_count": 35,
     "metadata": {},
     "output_type": "execute_result"
    }
   ],
   "source": [
    "#Change working directory\n",
    "os.chdir(data_dir)\n",
    "\n",
    "#Check working directory\n",
    "os.getcwd()"
   ]
  },
  {
   "cell_type": "markdown",
   "metadata": {
    "id": "oCBYPw7kd1AN"
   },
   "source": [
    "# I. Wrangle Data"
   ]
  },
  {
   "cell_type": "code",
   "execution_count": 37,
   "metadata": {
    "id": "GB03VuwJOvhF"
   },
   "outputs": [],
   "source": [
    "# columns that had 0s that should be NaNs\n",
    "# Treat all zeros in the dataset as NaNs\n",
    "def wrangle(temp_df):\n",
    "\n",
    "  # Set row index to 'id' column \n",
    "  temp_df.set_index('id', inplace=True)\n",
    "\n",
    "  # Drop the constant column \"recorded_by\"\n",
    "  temp_df.drop(columns='recorded_by', inplace=True)\n",
    "\n",
    "  # Drop Duplicate Column \"quantity_group\"\n",
    "  temp_df.drop(columns='quantity_group', inplace=True)\n",
    "\n",
    "  # Drop High-Cardinality Columns\n",
    "  cols_to_drop = [col for col in df.select_dtypes('object') if df[col].nunique() > 100]\n",
    "  temp_df.drop(columns=cols_to_drop, inplace=True)\n",
    "\n",
    "  # Drop columns with a high proportion of null values\n",
    "  temp_df.drop(columns='num_private', inplace=True)\n",
    "  \n",
    "  return temp_df\n",
    "\n",
    "df = pd.merge(pd.read_csv('train_features.csv', na_values=[0]), \n",
    "              pd.read_csv('train_labels.csv', na_values=[0]))\n",
    "\n",
    "train = wrangle(df)\n",
    "X_test = wrangle(pd.read_csv('test_features.csv'))"
   ]
  },
  {
   "cell_type": "markdown",
   "metadata": {
    "id": "jetWccxMqmzY"
   },
   "source": [
    "# II. Split Data"
   ]
  },
  {
   "cell_type": "markdown",
   "metadata": {
    "id": "y-MPA0qlr-mK"
   },
   "source": [
    "## Split Target Vector from feature matrix"
   ]
  },
  {
   "cell_type": "code",
   "execution_count": 27,
   "metadata": {
    "id": "r1tp2pnxqUvB"
   },
   "outputs": [],
   "source": [
    "target = 'status_group'\n",
    "\n",
    "y = train[target]\n",
    "\n",
    "X = train.drop(columns = target)"
   ]
  },
  {
   "cell_type": "markdown",
   "metadata": {
    "id": "n8jSWomGsLsw"
   },
   "source": [
    "# Training-Validation Split\n",
    "\n",
    "- Randomized split"
   ]
  },
  {
   "cell_type": "code",
   "execution_count": 28,
   "metadata": {
    "id": "cPYl62lisKza"
   },
   "outputs": [],
   "source": [
    "X_train, X_val, y_train, y_val = train_test_split(X, y, test_size = .2, random_state = 5)"
   ]
  },
  {
   "cell_type": "markdown",
   "metadata": {
    "id": "WX9uvMMgs6J_"
   },
   "source": [
    "# III. Establish Baseline\n",
    "\n",
    "This is a **classification** problem, our baseline will be **accuracy**. \n",
    "Because it's a classification, we need to calculate baseline accuracy based on our majority. "
   ]
  },
  {
   "cell_type": "code",
   "execution_count": 29,
   "metadata": {
    "colab": {
     "base_uri": "https://localhost:8080/"
    },
    "id": "bXLLxnTDs328",
    "outputId": "1dee2998-fcdb-46f0-a38d-8f131d8105d7"
   },
   "outputs": [
    {
     "name": "stdout",
     "output_type": "stream",
     "text": [
      "Baseline Accuracy: 54.38762626262626\n"
     ]
    }
   ],
   "source": [
    "print('Baseline Accuracy:', y_train.value_counts(normalize = True).max()*100)"
   ]
  },
  {
   "cell_type": "markdown",
   "metadata": {
    "id": "MA19NsrFtgTT"
   },
   "source": [
    "# IV. Build Model(s)\n",
    "\n",
    "- Imputer Missing values\n",
    "- Encode for Categorical values"
   ]
  },
  {
   "cell_type": "markdown",
   "metadata": {
    "id": "wpSoVT8lSu27"
   },
   "source": [
    "**First Model:** Logistic Regression"
   ]
  },
  {
   "cell_type": "code",
   "execution_count": 16,
   "metadata": {
    "colab": {
     "base_uri": "https://localhost:8080/"
    },
    "id": "4m_3ManIjYCB",
    "outputId": "acbfcc3a-e05e-4875-9a4c-13be3ad7d00e"
   },
   "outputs": [
    {
     "data": {
      "text/plain": [
       "Pipeline(memory=None,\n",
       "         steps=[('ordinalencoder',\n",
       "                 OrdinalEncoder(cols=['basin', 'region', 'public_meeting',\n",
       "                                      'scheme_management', 'permit',\n",
       "                                      'extraction_type',\n",
       "                                      'extraction_type_group',\n",
       "                                      'extraction_type_class', 'management',\n",
       "                                      'management_group', 'payment',\n",
       "                                      'payment_type', 'water_quality',\n",
       "                                      'quality_group', 'quantity', 'source',\n",
       "                                      'source_type', 'source_class',\n",
       "                                      'waterpoint_type...\n",
       "                               verbose=0)),\n",
       "                ('standardscaler',\n",
       "                 StandardScaler(copy=True, with_mean=True, with_std=True)),\n",
       "                ('logisticregression',\n",
       "                 LogisticRegression(C=1.0, class_weight=None, dual=False,\n",
       "                                    fit_intercept=True, intercept_scaling=1,\n",
       "                                    l1_ratio=None, max_iter=200,\n",
       "                                    multi_class='auto', n_jobs=None,\n",
       "                                    penalty='l2', random_state=None,\n",
       "                                    solver='lbfgs', tol=0.0001, verbose=0,\n",
       "                                    warm_start=False))],\n",
       "         verbose=False)"
      ]
     },
     "execution_count": 16,
     "metadata": {
      "tags": []
     },
     "output_type": "execute_result"
    }
   ],
   "source": [
    "model_lr = make_pipeline(\n",
    "    OrdinalEncoder(), \n",
    "    SimpleImputer(), \n",
    "    StandardScaler(), \n",
    "    LogisticRegression(max_iter = 200)\n",
    ")\n",
    "\n",
    "model_lr.fit(X_train, y_train)"
   ]
  },
  {
   "cell_type": "markdown",
   "metadata": {
    "id": "AFo1D7_zUQ3d"
   },
   "source": [
    "**First Model:** Decision Tree Classifier"
   ]
  },
  {
   "cell_type": "code",
   "execution_count": 17,
   "metadata": {
    "colab": {
     "base_uri": "https://localhost:8080/"
    },
    "id": "9BD1ooqFUO6w",
    "outputId": "431b6c87-f77e-4377-a8b1-554b289de765"
   },
   "outputs": [
    {
     "data": {
      "text/plain": [
       "Pipeline(memory=None,\n",
       "         steps=[('ordinalencoder',\n",
       "                 OrdinalEncoder(cols=['basin', 'region', 'public_meeting',\n",
       "                                      'scheme_management', 'permit',\n",
       "                                      'extraction_type',\n",
       "                                      'extraction_type_group',\n",
       "                                      'extraction_type_class', 'management',\n",
       "                                      'management_group', 'payment',\n",
       "                                      'payment_type', 'water_quality',\n",
       "                                      'quality_group', 'quantity', 'source',\n",
       "                                      'source_type', 'source_class',\n",
       "                                      'waterpoint_type...\n",
       "                               verbose=0)),\n",
       "                ('decisiontreeclassifier',\n",
       "                 DecisionTreeClassifier(ccp_alpha=0.0, class_weight=None,\n",
       "                                        criterion='gini', max_depth=None,\n",
       "                                        max_features=None, max_leaf_nodes=None,\n",
       "                                        min_impurity_decrease=0.0,\n",
       "                                        min_impurity_split=None,\n",
       "                                        min_samples_leaf=1, min_samples_split=2,\n",
       "                                        min_weight_fraction_leaf=0.0,\n",
       "                                        presort='deprecated', random_state=None,\n",
       "                                        splitter='best'))],\n",
       "         verbose=False)"
      ]
     },
     "execution_count": 17,
     "metadata": {
      "tags": []
     },
     "output_type": "execute_result"
    }
   ],
   "source": [
    "model_dt = make_pipeline(\n",
    "    OrdinalEncoder(), \n",
    "    SimpleImputer(), \n",
    "    DecisionTreeClassifier()\n",
    ")\n",
    "\n",
    "model_dt.fit(X_train, y_train)"
   ]
  },
  {
   "cell_type": "markdown",
   "metadata": {
    "id": "J8DZ7_K2UjmF"
   },
   "source": [
    "**First Model:** Random Forest Classifier"
   ]
  },
  {
   "cell_type": "code",
   "execution_count": 30,
   "metadata": {
    "colab": {
     "base_uri": "https://localhost:8080/"
    },
    "id": "YWbohkfOUpZN",
    "outputId": "902fa317-4082-44b9-d6ed-254f6f75e68a"
   },
   "outputs": [
    {
     "data": {
      "text/plain": [
       "Pipeline(memory=None,\n",
       "         steps=[('ordinalencoder',\n",
       "                 OrdinalEncoder(cols=['basin', 'region', 'public_meeting',\n",
       "                                      'scheme_management', 'permit',\n",
       "                                      'extraction_type',\n",
       "                                      'extraction_type_group',\n",
       "                                      'extraction_type_class', 'management',\n",
       "                                      'management_group', 'payment',\n",
       "                                      'payment_type', 'water_quality',\n",
       "                                      'quality_group', 'quantity', 'source',\n",
       "                                      'source_type', 'source_class',\n",
       "                                      'waterpoint_type...\n",
       "                 RandomForestClassifier(bootstrap=True, ccp_alpha=0.0,\n",
       "                                        class_weight=None, criterion='gini',\n",
       "                                        max_depth=None, max_features='auto',\n",
       "                                        max_leaf_nodes=None, max_samples=None,\n",
       "                                        min_impurity_decrease=0.0,\n",
       "                                        min_impurity_split=None,\n",
       "                                        min_samples_leaf=1, min_samples_split=2,\n",
       "                                        min_weight_fraction_leaf=0.0,\n",
       "                                        n_estimators=100, n_jobs=None,\n",
       "                                        oob_score=False, random_state=None,\n",
       "                                        verbose=0, warm_start=False))],\n",
       "         verbose=False)"
      ]
     },
     "execution_count": 30,
     "metadata": {},
     "output_type": "execute_result"
    }
   ],
   "source": [
    "model_rf = make_pipeline(\n",
    "    OrdinalEncoder(), \n",
    "    SimpleImputer(), \n",
    "    RandomForestClassifier()\n",
    ")\n",
    "\n",
    "model_rf.fit(X_train, y_train)"
   ]
  },
  {
   "cell_type": "markdown",
   "metadata": {
    "id": "v7Cr2n7Vu9cb"
   },
   "source": [
    "# V. Check Metrics"
   ]
  },
  {
   "cell_type": "code",
   "execution_count": 24,
   "metadata": {
    "colab": {
     "base_uri": "https://localhost:8080/"
    },
    "id": "K1bncI7svKf3",
    "outputId": "7a97b400-4cbc-4e18-abdf-ad70c06fba25"
   },
   "outputs": [
    {
     "name": "stdout",
     "output_type": "stream",
     "text": [
      "Logistic Regression Accuracy\n",
      "Training Accuracy: 0.65625\n",
      "Validation Accuracy: 0.6599326599326599\n",
      "----------------------------------------------------------------------\n",
      "Decision Tree Accuracy\n",
      "Training Accuracy: 0.9955281986531986\n",
      "Validation Accuracy: 0.7496843434343434\n",
      "----------------------------------------------------------------------\n",
      "Random Forest Accuracy\n",
      "Training Accuracy: 0.9954229797979798\n",
      "Validation Accuracy: 0.8013468013468014\n"
     ]
    }
   ],
   "source": [
    "#Logistic Regression Accuracy\n",
    "print('Logistic Regression Accuracy')\n",
    "print('Training Accuracy:', model_lr.score(X_train, y_train))\n",
    "print('Validation Accuracy:', model_lr.score(X_val, y_val))\n",
    "print('----------------------------------------------------------------------')\n",
    "\n",
    "#Decision Tree Accuracy\n",
    "print('Decision Tree Accuracy')\n",
    "print('Training Accuracy:', model_dt.score(X_train, y_train))\n",
    "print('Validation Accuracy:', model_dt.score(X_val, y_val))\n",
    "print('----------------------------------------------------------------------')\n",
    "\n",
    "#Random Forest Accuracy\n",
    "print('Random Forest Accuracy')\n",
    "print('Training Accuracy:', model_rf.score(X_train, y_train))\n",
    "print('Validation Accuracy:', model_rf.score(X_val, y_val))"
   ]
  },
  {
   "cell_type": "markdown",
   "metadata": {
    "id": "1JoBVbzpQeQ0"
   },
   "source": [
    "# VI. Tune Model"
   ]
  },
  {
   "cell_type": "code",
   "execution_count": 30,
   "metadata": {
    "colab": {
     "base_uri": "https://localhost:8080/"
    },
    "id": "UEmwKaz-oBc4",
    "outputId": "1aa85167-4189-4e94-e7a0-713146e8a399"
   },
   "outputs": [
    {
     "data": {
      "text/plain": [
       "[2, 4, 6, 8, 10, 12, 14, 16, 18, 20, 22, 24, 26, 28, 30, 32, 34, 36, 38]"
      ]
     },
     "execution_count": 30,
     "metadata": {
      "tags": []
     },
     "output_type": "execute_result"
    }
   ],
   "source": [
    "max_depths = range(2,40, 2)\n",
    "\n",
    "list(max_depths)"
   ]
  },
  {
   "cell_type": "code",
   "execution_count": 31,
   "metadata": {
    "id": "I4Vu3kgIYMul"
   },
   "outputs": [],
   "source": [
    "val_acc = []\n",
    "train_acc = []\n",
    "\n",
    "for depth in max_depths:\n",
    "  model_rf = make_pipeline(\n",
    "      OrdinalEncoder(), \n",
    "      SimpleImputer(), \n",
    "      RandomForestClassifier(max_depth = depth)\n",
    "  )\n",
    "\n",
    "  model_rf.fit(X_train, y_train)\n",
    "  train_acc.append(model_rf.score(X_train, y_train))\n",
    "  val_acc.append(model_rf.score(X_val, y_val))\n",
    "\n",
    "\n"
   ]
  },
  {
   "cell_type": "code",
   "execution_count": 33,
   "metadata": {
    "colab": {
     "base_uri": "https://localhost:8080/",
     "height": 280
    },
    "id": "0qIOR2yaZB92",
    "outputId": "7fa7b346-f686-47b9-f750-90fad4b083aa"
   },
   "outputs": [
    {
     "data": {
      "image/png": "[encoded data removed]",
      "text/plain": [
       "<Figure size 432x288 with 1 Axes>"
      ]
     },
     "metadata": {
      "needs_background": "light",
      "tags": []
     },
     "output_type": "display_data"
    }
   ],
   "source": [
    "#Validation curves\n",
    "\n",
    "plt.plot(max_depths, train_acc, color = 'blue', label = 'training')\n",
    "plt.plot(max_depths, val_acc, color = 'orange', label = 'validation')\n",
    "plt.xlabel('max_depth')\n",
    "plt.ylabel('accuracy')\n",
    "plt.show()"
   ]
  },
  {
   "cell_type": "code",
   "execution_count": 47,
   "metadata": {
    "colab": {
     "base_uri": "https://localhost:8080/"
    },
    "id": "9DyAvYFPca9W",
    "outputId": "ad289ac6-1901-4fc1-d386-c5c8758b791a"
   },
   "outputs": [
    {
     "data": {
      "text/plain": [
       "Pipeline(memory=None,\n",
       "         steps=[('ordinalencoder',\n",
       "                 OrdinalEncoder(cols=['basin', 'region', 'public_meeting',\n",
       "                                      'scheme_management', 'permit',\n",
       "                                      'extraction_type',\n",
       "                                      'extraction_type_group',\n",
       "                                      'extraction_type_class', 'management',\n",
       "                                      'management_group', 'payment',\n",
       "                                      'payment_type', 'water_quality',\n",
       "                                      'quality_group', 'quantity', 'source',\n",
       "                                      'source_type', 'source_class',\n",
       "                                      'waterpoint_type...\n",
       "                 RandomForestClassifier(bootstrap=True, ccp_alpha=0.0,\n",
       "                                        class_weight=None, criterion='gini',\n",
       "                                        max_depth=20, max_features='auto',\n",
       "                                        max_leaf_nodes=None, max_samples=None,\n",
       "                                        min_impurity_decrease=0.0,\n",
       "                                        min_impurity_split=None,\n",
       "                                        min_samples_leaf=1, min_samples_split=2,\n",
       "                                        min_weight_fraction_leaf=0.0,\n",
       "                                        n_estimators=100, n_jobs=None,\n",
       "                                        oob_score=False, random_state=None,\n",
       "                                        verbose=0, warm_start=False))],\n",
       "         verbose=False)"
      ]
     },
     "execution_count": 47,
     "metadata": {
      "tags": []
     },
     "output_type": "execute_result"
    }
   ],
   "source": [
    "#Retrain RF with optimal Hyperparameters\n",
    "\n",
    "model_rf = make_pipeline(\n",
    "    OrdinalEncoder(), \n",
    "    SimpleImputer(), \n",
    "    RandomForestClassifier(max_depth = 20)\n",
    ")\n",
    "\n",
    "model_rf.fit(X_train, y_train)"
   ]
  },
  {
   "cell_type": "markdown",
   "metadata": {
    "id": "zw5mir81QglM"
   },
   "source": [
    "# VII. Communicate Results"
   ]
  },
  {
   "cell_type": "markdown",
   "metadata": {
    "id": "r7_1nJEQZnTm"
   },
   "source": [
    "Gini Importance\n"
   ]
  },
  {
   "cell_type": "code",
   "execution_count": 41,
   "metadata": {
    "colab": {
     "base_uri": "https://localhost:8080/",
     "height": 283
    },
    "id": "fspXUPR4ZkyS",
    "outputId": "05a9faf6-de67-4d78-f48a-b59e7c4e0488"
   },
   "outputs": [
    {
     "data": {
      "text/plain": [
       "<matplotlib.axes._subplots.AxesSubplot at 0x7f2754f0dc10>"
      ]
     },
     "execution_count": 41,
     "metadata": {
      "tags": []
     },
     "output_type": "execute_result"
    },
    {
     "data": {
      "image/png": "[encoded data removed]",
      "text/plain": [
       "<Figure size 432x288 with 1 Axes>"
      ]
     },
     "metadata": {
      "needs_background": "light",
      "tags": []
     },
     "output_type": "display_data"
    }
   ],
   "source": [
    "features = model_rf.named_steps['ordinalencoder'].get_feature_names()\n",
    "gini = model_rf.named_steps['randomforestclassifier'].feature_importances_\n",
    "\n",
    "pd.Series(data = gini, index = features).sort_values(key = abs).tail(10).plot(kind = 'barh')\n"
   ]
  },
  {
   "cell_type": "markdown",
   "metadata": {
    "id": "F5-o_qpWa_CT"
   },
   "source": [
    "## Submit to Kaggle"
   ]
  },
  {
   "cell_type": "code",
   "execution_count": 31,
   "metadata": {
    "id": "dtwch-q3a-pI"
   },
   "outputs": [],
   "source": [
    "#Change working directory\n",
    "os.chdir(outputs)\n",
    "\n",
    "predictions = pd.DataFrame(data=model_rf.predict(X_test), index=X_test.index)\n",
    "\n",
    "predictions.columns = ['status_group']\n",
    "\n",
    "predictions.insert(0, 'id', predictions.index)\n",
    "\n",
    "predictions = predictions.reset_index(drop=True)\n"
   ]
  },
  {
   "cell_type": "code",
   "execution_count": 33,
   "metadata": {
    "colab": {
     "base_uri": "https://localhost:8080/",
     "height": 17
    },
    "id": "L1K-V67NcFwE",
    "outputId": "1dcc75c5-06c0-4fd9-d969-31c3e0beac62"
   },
   "outputs": [],
   "source": [
    "# generate CSV\n",
    "predictions.to_csv('sample_submission_Vignesh_rf.csv', index=False)"
   ]
  }
 ],
 "metadata": {
  "colab": {
   "name": "222_guided-project-notes.ipynb",
   "provenance": []
  },
  "kernelspec": {
   "display_name": "Python 3",
   "language": "python",
   "name": "python3"
  },
  "language_info": {
   "codemirror_mode": {
    "name": "ipython",
    "version": 3
   },
   "file_extension": ".py",
   "mimetype": "text/x-python",
   "name": "python",
   "nbconvert_exporter": "python",
   "pygments_lexer": "ipython3",
   "version": "3.7.4"
  }
 },
 "nbformat": 4,
 "nbformat_minor": 1
}
