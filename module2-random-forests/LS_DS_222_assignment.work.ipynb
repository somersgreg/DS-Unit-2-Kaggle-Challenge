{
 "cells": [
  {
   "cell_type": "markdown",
   "source": [
    "Lambda School Data Science\n",
    "\n",
    "*Unit 2, Sprint 2, Module 2*\n",
    "\n",
    "---"
   ],
   "metadata": {}
  },
  {
   "cell_type": "code",
   "execution_count": 1,
   "source": [
    "%%capture\r\n",
    "import sys\r\n",
    "\r\n",
    "# If you're on Colab:\r\n",
    "if 'google.colab' in sys.modules:\r\n",
    "    DATA_PATH = 'https://raw.githubusercontent.com/LambdaSchool/DS-Unit-2-Kaggle-Challenge/main/data/'\r\n",
    "    !pip install category_encoders==2.*\r\n",
    "    !pip install pandas-profiling==2.*\r\n",
    "\r\n",
    "# If you're working locally:\r\n",
    "else:\r\n",
    "    DATA_PATH = (r'../data/waterpumps/')"
   ],
   "outputs": [],
   "metadata": {}
  },
  {
   "cell_type": "markdown",
   "source": [
    "# Module Project: Random Forests"
   ],
   "metadata": {}
  },
  {
   "cell_type": "markdown",
   "source": [
    "This week, the module projects will focus on creating and improving a model for the Tanazania Water Pump datset. Your goal is to create a model to predict whether a water pump is functional, non-functional, or needs repair.\n",
    "\n",
    "Dataset source: [DrivenData.org](https://www.drivendata.org/competitions/7/pump-it-up-data-mining-the-water-table/).\n",
    "\n",
    "## Directions\n",
    "\n",
    "The tasks for this project are as follows:\n",
    "\n",
    "- **Task 1:** Sign up for a [Kaggle](https://www.kaggle.com/) account.\n",
    "- **Task 2:** Use `wrangle` function to import training and test data.\n",
    "- **Task 3:** Split training data into feature matrix `X` and target vector `y`.\n",
    "- **Task 4:** Split feature matrix `X` and target vector `y` into training and test sets.\n",
    "- **Task 5:** Establish the baseline accuracy score for your dataset.\n",
    "- **Task 6:** Build and train `model_dt`.\n",
    "- **Task 7:** Calculate the training and validation accuracy score for your model.\n",
    "- **Task 8:** Adjust model's `max_depth` to reduce overfitting.\n",
    "- **Task 9 `stretch goal`:** Create a horizontal bar chart showing the 10 most important features for your model.\n",
    "\n",
    "You should limit yourself to the following libraries for this project:\n",
    "\n",
    "- `category_encoders`\n",
    "- `matplotlib`\n",
    "- `pandas`\n",
    "- `pandas-profiling`\n",
    "- `sklearn`\n",
    "\n",
    "# I. Wrangle Data"
   ],
   "metadata": {}
  },
  {
   "cell_type": "code",
   "execution_count": 2,
   "source": [
    "def wrangle(fm_path, tv_path=None):\r\n",
    "    if tv_path:\r\n",
    "        df = pd.merge(pd.read_csv(fm_path, \r\n",
    "                                  na_values=[0, -2.000000e-08]),\r\n",
    "                      pd.read_csv(tv_path)).set_index('id')\r\n",
    "    else:\r\n",
    "        df = pd.read_csv(fm_path, \r\n",
    "                         na_values=[0, -2.000000e-08],\r\n",
    "                         index_col='id')\r\n",
    "\r\n",
    "    # Drop constant columns\r\n",
    "    df.drop(columns=['recorded_by'], inplace=True)\r\n",
    "\r\n",
    "    # Drop HCCCs\r\n",
    "    cutoff = 100\r\n",
    "    drop_cols = [col for col in df.select_dtypes('object').columns\r\n",
    "                 if df[col].nunique() > cutoff]\r\n",
    "    df.drop(columns=drop_cols, inplace=True)\r\n",
    "\r\n",
    "    # Drop duplicate columns\r\n",
    "    dupe_cols = [col for col in df.head(15).T.duplicated().index\r\n",
    "                 if df.head(15).T.duplicated()[col]]\r\n",
    "    df.drop(columns=dupe_cols, inplace=True)             \r\n",
    "\r\n",
    "    return df"
   ],
   "outputs": [],
   "metadata": {}
  },
  {
   "cell_type": "markdown",
   "source": [
    "**Task 1:** Sign up for a [Kaggle](https://www.kaggle.com/) account. Choose a username that's based on your real name. Like GitHub, Kaggle is part of your public profile as a data scientist.\n",
    "\n",
    "**Task 2:** Modify the `wrangle` function to engineer a `'pump_age'` feature. Then use the function to read `train_features.csv` and `train_labels.csv` into the DataFrame `df`, and `test_features.csv` into the DataFrame `X_test`."
   ],
   "metadata": {}
  },
  {
   "cell_type": "code",
   "execution_count": 3,
   "source": [
    "import pandas as pd"
   ],
   "outputs": [],
   "metadata": {}
  },
  {
   "cell_type": "code",
   "execution_count": 4,
   "source": [
    "df = wrangle(DATA_PATH+r'train_features.csv',DATA_PATH+r'train_labels.csv')"
   ],
   "outputs": [],
   "metadata": {}
  },
  {
   "cell_type": "code",
   "execution_count": 11,
   "source": [
    "df.shape"
   ],
   "outputs": [
    {
     "output_type": "execute_result",
     "data": {
      "text/plain": [
       "(59399, 29)"
      ]
     },
     "metadata": {},
     "execution_count": 11
    }
   ],
   "metadata": {}
  },
  {
   "cell_type": "code",
   "execution_count": 14,
   "source": [
    "train = df"
   ],
   "outputs": [],
   "metadata": {}
  },
  {
   "cell_type": "code",
   "execution_count": 7,
   "source": [
    "X_test = wrangle(DATA_PATH+r'test_features.csv')"
   ],
   "outputs": [],
   "metadata": {}
  },
  {
   "cell_type": "code",
   "execution_count": 10,
   "source": [
    "X_test.shape"
   ],
   "outputs": [
    {
     "output_type": "execute_result",
     "data": {
      "text/plain": [
       "(14358, 28)"
      ]
     },
     "metadata": {},
     "execution_count": 10
    }
   ],
   "metadata": {}
  },
  {
   "cell_type": "code",
   "execution_count": 13,
   "source": [
    "set(df.columns) - set(X_test.columns)"
   ],
   "outputs": [
    {
     "output_type": "execute_result",
     "data": {
      "text/plain": [
       "{'status_group'}"
      ]
     },
     "metadata": {},
     "execution_count": 13
    }
   ],
   "metadata": {}
  },
  {
   "cell_type": "markdown",
   "source": [
    "# II. Split Data\n",
    "\n",
    "**Task 3:** Split your DataFrame `df` into a feature matrix `X` and the target vector `y`. You want to predict `'status_group'`."
   ],
   "metadata": {}
  },
  {
   "cell_type": "code",
   "execution_count": 15,
   "source": [
    "target = 'status_group'\r\n",
    "y = train[target]\r\n",
    "X = train.drop(columns = target)"
   ],
   "outputs": [],
   "metadata": {}
  },
  {
   "cell_type": "markdown",
   "source": [
    "**Task 4:** Using a randomized split, divide `X` and `y` into a training set (`X_train`, `y_train`) and a validation set (`X_val`, `y_val`)."
   ],
   "metadata": {}
  },
  {
   "cell_type": "code",
   "execution_count": 17,
   "source": [
    "from sklearn.model_selection import train_test_split "
   ],
   "outputs": [],
   "metadata": {}
  },
  {
   "cell_type": "code",
   "execution_count": 18,
   "source": [
    "X_train, X_val, y_train, y_val = train_test_split(X, y, test_size = 0.20, random_state = 0)"
   ],
   "outputs": [],
   "metadata": {}
  },
  {
   "cell_type": "markdown",
   "source": [
    "# III. Establish Baseline\n",
    "\n",
    "**Task 5:** Since this is a **classification** problem, you should establish a baseline accuracy score. Figure out what is the majority class in `y_train` and what percentage of your training observations it represents."
   ],
   "metadata": {}
  },
  {
   "cell_type": "code",
   "execution_count": 19,
   "source": [
    "y_train.value_counts(normalize=True)\r\n",
    "\r\n",
    "#y_pred = [majority_class] * len(y_train)"
   ],
   "outputs": [
    {
     "output_type": "execute_result",
     "data": {
      "text/plain": [
       "functional                 0.543193\n",
       "non functional             0.383973\n",
       "functional needs repair    0.072834\n",
       "Name: status_group, dtype: float64"
      ]
     },
     "metadata": {},
     "execution_count": 19
    }
   ],
   "metadata": {}
  },
  {
   "cell_type": "code",
   "execution_count": 21,
   "source": [
    "majority_class=y_train.mode()[0]\r\n",
    "y_pred = [majority_class] * len(y_train)"
   ],
   "outputs": [],
   "metadata": {}
  },
  {
   "cell_type": "code",
   "execution_count": 24,
   "source": [
    "len(y_pred)"
   ],
   "outputs": [
    {
     "output_type": "execute_result",
     "data": {
      "text/plain": [
       "47519"
      ]
     },
     "metadata": {},
     "execution_count": 24
    }
   ],
   "metadata": {}
  },
  {
   "cell_type": "code",
   "execution_count": 25,
   "source": [
    "from sklearn.metrics import accuracy_score"
   ],
   "outputs": [],
   "metadata": {}
  },
  {
   "cell_type": "code",
   "execution_count": 28,
   "source": [
    "# Method 2\r\n",
    "baseline_acc = accuracy_score(y_train, y_pred)\r\n",
    "print('Baseline Accuracy Score:', baseline_acc)\r\n",
    "# Method 1\r\n",
    "print('Baseline Accurary Score:', y_train.value_counts(normalize = True).max()*100)"
   ],
   "outputs": [
    {
     "output_type": "stream",
     "name": "stdout",
     "text": [
      "Baseline Accuracy Score: 0.543193249016183\n",
      "Baseline Accurary Score: 54.3193249016183\n"
     ]
    }
   ],
   "metadata": {}
  },
  {
   "cell_type": "markdown",
   "source": [
    "# IV. Build Model\n",
    "\n",
    "**Task 6:** Build a `Pipeline` named `model_rf`, and fit it to your training data. Your `Pipeline` should include:\n",
    "\n",
    "- an `OrdinalEncoder` transformer for categorical features.\n",
    "- a `SimpleImputer` transformer fot missing values.\n",
    "- a `RandomForestClassifier` predictor.\n",
    "\n",
    "**Note:** Don't forget to set the `random_state` parameter for your `RandomForestClassifier`. Also, to decrease training time, set `n_jobs` to `-1`."
   ],
   "metadata": {}
  },
  {
   "cell_type": "code",
   "execution_count": 29,
   "source": [
    "from sklearn.pipeline import make_pipeline\r\n",
    "from category_encoders import OneHotEncoder, OrdinalEncoder\r\n",
    "from sklearn.impute import SimpleImputer\r\n",
    "from sklearn.ensemble import RandomForestClassifier"
   ],
   "outputs": [],
   "metadata": {}
  },
  {
   "cell_type": "code",
   "execution_count": 40,
   "source": [
    "## Requires Scaler\r\n",
    "# model_lr = make_pipeline(\r\n",
    "#     OrdinalEncoder(), \r\n",
    "#     SimpleImputer(), \r\n",
    "#     StandardScaler(), \r\n",
    "#     LogisticRegression(max_iter = 200)\r\n",
    "# )\r\n",
    "\r\n",
    "# model_lr.fit(X_train, y_train)"
   ],
   "outputs": [],
   "metadata": {}
  },
  {
   "cell_type": "code",
   "execution_count": 42,
   "source": [
    "## Requires DecisionTreeClassifier\r\n",
    "# model_dt = make_pipeline(\r\n",
    "#     OrdinalEncoder(), \r\n",
    "#     SimpleImputer(), \r\n",
    "#     DecisionTreeClassifier()\r\n",
    "# )\r\n",
    "\r\n",
    "# model_dt.fit(X_train, y_train)"
   ],
   "outputs": [],
   "metadata": {}
  },
  {
   "cell_type": "code",
   "execution_count": 33,
   "source": [
    "model_rf = make_pipeline(\r\n",
    "      OrdinalEncoder(),\r\n",
    "      SimpleImputer(strategy= 'mean'),\r\n",
    "      RandomForestClassifier(n_jobs=-1, max_depth = 20, \r\n",
    "      n_estimators = 285, random_state=0))\r\n",
    "\r\n",
    "model_rf.fit(X_train, y_train)"
   ],
   "outputs": [
    {
     "output_type": "execute_result",
     "data": {
      "text/plain": [
       "Pipeline(steps=[('ordinalencoder',\n",
       "                 OrdinalEncoder(cols=['basin', 'region', 'public_meeting',\n",
       "                                      'scheme_management', 'permit',\n",
       "                                      'extraction_type',\n",
       "                                      'extraction_type_class', 'management',\n",
       "                                      'management_group', 'payment',\n",
       "                                      'payment_type', 'water_quality',\n",
       "                                      'quality_group', 'quantity', 'source',\n",
       "                                      'source_type', 'source_class',\n",
       "                                      'waterpoint_type',\n",
       "                                      'waterpoint_type_group'],\n",
       "                                mapping=[...\n",
       "communal standpipe multiple    3\n",
       "other                          4\n",
       "improved spring                5\n",
       "cattle trough                  6\n",
       "dam                            7\n",
       "NaN                           -2\n",
       "dtype: int64},\n",
       "                                         {'col': 'waterpoint_type_group',\n",
       "                                          'data_type': dtype('O'),\n",
       "                                          'mapping': communal standpipe    1\n",
       "hand pump             2\n",
       "other                 3\n",
       "improved spring       4\n",
       "cattle trough         5\n",
       "dam                   6\n",
       "NaN                  -2\n",
       "dtype: int64}])),\n",
       "                ('simpleimputer', SimpleImputer()),\n",
       "                ('randomforestclassifier',\n",
       "                 RandomForestClassifier(max_depth=20, n_estimators=285,\n",
       "                                        n_jobs=-1, random_state=0))])"
      ]
     },
     "metadata": {},
     "execution_count": 33
    }
   ],
   "metadata": {}
  },
  {
   "cell_type": "markdown",
   "source": [
    "# V. Check Metrics\n",
    "\n",
    "**Task 7:** Calculate the training and validation accuracy scores for `model_rf`."
   ],
   "metadata": {}
  },
  {
   "cell_type": "code",
   "execution_count": null,
   "source": [],
   "outputs": [],
   "metadata": {}
  },
  {
   "cell_type": "code",
   "execution_count": 38,
   "source": [
    "## Method 2\r\n",
    "# training_acc = accuracy_score(y_train, model_rf.predict(X_train))\r\n",
    "# val_acc = accuracy_score(y_val, model_rf.predict(X_val))\r\n",
    "# Training Accuracy Score: 0.9543761442791304\r\n",
    "# Validation Accuracy Score: 0.8088383838383838\r\n",
    "\r\n",
    "## Method 1\r\n",
    "# training_acc = model_rf.score(X_train, y_train)\r\n",
    "# val_acc = model_rf.score(X_val, y_val)\r\n",
    "# Training Accuracy Score: 0.9543761442791304\r\n",
    "# Validation Accuracy Score: 0.8088383838383838\r\n",
    "\r\n",
    "# print('Training Accuracy Score:', training_acc)\r\n",
    "# print('Validation Accuracy Score:', val_acc)\r\n",
    "\r\n",
    "#Random Forest Accuracy\r\n",
    "print('Random Forest Accuracy')\r\n",
    "print('Training Accuracy:', model_rf.score(X_train, y_train))\r\n",
    "print('Validation Accuracy:', model_rf.score(X_val, y_val))"
   ],
   "outputs": [
    {
     "output_type": "stream",
     "name": "stdout",
     "text": [
      "Random Forest Accuracy\n",
      "Training Accuracy: 0.9543761442791304\n",
      "Validation Accuracy: 0.8088383838383838\n"
     ]
    }
   ],
   "metadata": {}
  },
  {
   "cell_type": "markdown",
   "source": [
    "# VI. Tune Model\n",
    "\n",
    "**Task 8:** Tune `n_estimators` and `max_depth` hyperparameters for your `RandomForestClassifier` to get the best validation accuracy score for `model_rf`. "
   ],
   "metadata": {}
  },
  {
   "cell_type": "code",
   "execution_count": 43,
   "source": [
    "# Use this cell to experiment and then change \r\n",
    "# your model hyperparameters in Task 6\r\n",
    "max_depths = range(2,40, 2)\r\n",
    "\r\n",
    "list(max_depths)"
   ],
   "outputs": [
    {
     "output_type": "execute_result",
     "data": {
      "text/plain": [
       "[2, 4, 6, 8, 10, 12, 14, 16, 18, 20, 22, 24, 26, 28, 30, 32, 34, 36, 38]"
      ]
     },
     "metadata": {},
     "execution_count": 43
    }
   ],
   "metadata": {}
  },
  {
   "cell_type": "code",
   "execution_count": 44,
   "source": [
    "val_acc = []\r\n",
    "train_acc = []\r\n",
    "\r\n",
    "for depth in max_depths:\r\n",
    "  model_rf = make_pipeline(\r\n",
    "      OrdinalEncoder(), \r\n",
    "      SimpleImputer(), \r\n",
    "      RandomForestClassifier(max_depth = depth))\r\n",
    "\r\n",
    "  model_rf.fit(X_train, y_train)\r\n",
    "  train_acc.append(model_rf.score(X_train, y_train))\r\n",
    "  val_acc.append(model_rf.score(X_val, y_val))"
   ],
   "outputs": [],
   "metadata": {
    "id": "I4Vu3kgIYMul"
   }
  },
  {
   "cell_type": "code",
   "execution_count": 46,
   "source": [
    "import matplotlib.pyplot as plt"
   ],
   "outputs": [],
   "metadata": {}
  },
  {
   "cell_type": "code",
   "execution_count": 47,
   "source": [
    "#Validation curves\r\n",
    "\r\n",
    "plt.plot(max_depths, train_acc, color = 'blue', label = 'training')\r\n",
    "plt.plot(max_depths, val_acc, color = 'orange', label = 'validation')\r\n",
    "plt.xlabel('max_depth')\r\n",
    "plt.ylabel('accuracy')\r\n",
    "plt.show()"
   ],
   "outputs": [
    {
     "output_type": "display_data",
     "data": {
      "text/plain": [
       "<Figure size 432x288 with 1 Axes>"
      ],
      "image/png": "[encoded data removed]"
     },
     "metadata": {
      "needs_background": "light"
     }
    }
   ],
   "metadata": {
    "colab": {
     "base_uri": "https://localhost:8080/",
     "height": 280
    },
    "id": "0qIOR2yaZB92",
    "outputId": "7fa7b346-f686-47b9-f750-90fad4b083aa"
   }
  },
  {
   "cell_type": "code",
   "execution_count": 48,
   "source": [
    "#Retrain RF with optimal Hyperparameters\r\n",
    "\r\n",
    "model_rf = make_pipeline(\r\n",
    "    OrdinalEncoder(), \r\n",
    "    SimpleImputer(), \r\n",
    "    RandomForestClassifier(max_depth = 20)\r\n",
    ")\r\n",
    "\r\n",
    "model_rf.fit(X_train, y_train)"
   ],
   "outputs": [
    {
     "output_type": "execute_result",
     "data": {
      "text/plain": [
       "Pipeline(steps=[('ordinalencoder',\n",
       "                 OrdinalEncoder(cols=['basin', 'region', 'public_meeting',\n",
       "                                      'scheme_management', 'permit',\n",
       "                                      'extraction_type',\n",
       "                                      'extraction_type_class', 'management',\n",
       "                                      'management_group', 'payment',\n",
       "                                      'payment_type', 'water_quality',\n",
       "                                      'quality_group', 'quantity', 'source',\n",
       "                                      'source_type', 'source_class',\n",
       "                                      'waterpoint_type',\n",
       "                                      'waterpoint_type_group'],\n",
       "                                mapping=[...\n",
       "                                          'mapping': communal standpipe             1\n",
       "hand pump                      2\n",
       "communal standpipe multiple    3\n",
       "other                          4\n",
       "improved spring                5\n",
       "cattle trough                  6\n",
       "dam                            7\n",
       "NaN                           -2\n",
       "dtype: int64},\n",
       "                                         {'col': 'waterpoint_type_group',\n",
       "                                          'data_type': dtype('O'),\n",
       "                                          'mapping': communal standpipe    1\n",
       "hand pump             2\n",
       "other                 3\n",
       "improved spring       4\n",
       "cattle trough         5\n",
       "dam                   6\n",
       "NaN                  -2\n",
       "dtype: int64}])),\n",
       "                ('simpleimputer', SimpleImputer()),\n",
       "                ('randomforestclassifier',\n",
       "                 RandomForestClassifier(max_depth=20))])"
      ]
     },
     "metadata": {},
     "execution_count": 48
    }
   ],
   "metadata": {
    "colab": {
     "base_uri": "https://localhost:8080/"
    },
    "id": "9DyAvYFPca9W",
    "outputId": "ad289ac6-1901-4fc1-d386-c5c8758b791a"
   }
  },
  {
   "cell_type": "markdown",
   "source": [
    "# VII. Communicate Results\n",
    "\n",
    "**Task 9:** Generate a list of predictions for `X_test`. The list should be named `y_pred`."
   ],
   "metadata": {}
  },
  {
   "cell_type": "code",
   "execution_count": 49,
   "source": [
    "features = model_rf.named_steps['ordinalencoder'].get_feature_names()\r\n",
    "gini = model_rf.named_steps['randomforestclassifier'].feature_importances_\r\n",
    "\r\n",
    "pd.Series(data = gini, index = features).sort_values(key = abs).tail(10).plot(kind = 'barh')\r\n"
   ],
   "outputs": [
    {
     "output_type": "execute_result",
     "data": {
      "text/plain": [
       "<AxesSubplot:>"
      ]
     },
     "metadata": {},
     "execution_count": 49
    },
    {
     "output_type": "display_data",
     "data": {
      "text/plain": [
       "<Figure size 432x288 with 1 Axes>"
      ],
      "image/png": "[encoded data removed]"
     },
     "metadata": {
      "needs_background": "light"
     }
    }
   ],
   "metadata": {
    "colab": {
     "base_uri": "https://localhost:8080/",
     "height": 283
    },
    "id": "fspXUPR4ZkyS",
    "outputId": "05a9faf6-de67-4d78-f48a-b59e7c4e0488"
   }
  },
  {
   "cell_type": "code",
   "execution_count": null,
   "source": [
    "#y_pred = []\r\n",
    "\r\n",
    "assert len(y_pred) == len(X_test), f'Your list of predictions should have {len(X_test)} items in it. '"
   ],
   "outputs": [],
   "metadata": {}
  },
  {
   "cell_type": "markdown",
   "source": [
    "**Task 11 `stretch goal`:** Create a DataFrame `submission` whose index is the same as `X_test` and that has one column `'status_group'` with your predictions. Next, save this DataFrame as a CSV file and upload your submissions to our competition site. \n",
    "\n",
    "**Note:** Check the `sample_submission.csv` file on the competition website to make sure your submissions follows the same formatting. "
   ],
   "metadata": {}
  },
  {
   "cell_type": "code",
   "execution_count": 51,
   "source": [
    "#Change working directory\r\n",
    "#os.chdir(outputs)\r\n",
    "\r\n",
    "predictions = pd.DataFrame(data=model_rf.predict(X_test), index=X_test.index)\r\n",
    "\r\n",
    "predictions.columns = ['status_group']\r\n",
    "\r\n",
    "predictions.insert(0, 'id', predictions.index)\r\n",
    "\r\n",
    "predictions = predictions.reset_index(drop=True)\r\n"
   ],
   "outputs": [],
   "metadata": {
    "id": "dtwch-q3a-pI"
   }
  },
  {
   "cell_type": "code",
   "execution_count": 53,
   "source": [
    "len(predictions)\r\n"
   ],
   "outputs": [
    {
     "output_type": "execute_result",
     "data": {
      "text/plain": [
       "14358"
      ]
     },
     "metadata": {},
     "execution_count": 53
    }
   ],
   "metadata": {}
  },
  {
   "cell_type": "code",
   "execution_count": 52,
   "source": [
    "# generate CSV\r\n",
    "predictions.to_csv('sample_submission_greg.somers_rf.csv', index=False)"
   ],
   "outputs": [],
   "metadata": {
    "colab": {
     "base_uri": "https://localhost:8080/",
     "height": 17
    },
    "id": "L1K-V67NcFwE",
    "outputId": "1dcc75c5-06c0-4fd9-d969-31c3e0beac62"
   }
  },
  {
   "cell_type": "code",
   "execution_count": null,
   "source": [
    "submission = ..."
   ],
   "outputs": [],
   "metadata": {}
  }
 ],
 "metadata": {
  "kernelspec": {
   "name": "python3",
   "display_name": "Python 3.9.6 64-bit"
  },
  "language_info": {
   "codemirror_mode": {
    "name": "ipython",
    "version": 3
   },
   "file_extension": ".py",
   "mimetype": "text/x-python",
   "name": "python",
   "nbconvert_exporter": "python",
   "pygments_lexer": "ipython3",
   "version": "3.9.6"
  },
  "interpreter": {
   "hash": "63fd5069d213b44bf678585dea6b12cceca9941eaf7f819626cde1f2670de90d"
  }
 },
 "nbformat": 4,
 "nbformat_minor": 1
}