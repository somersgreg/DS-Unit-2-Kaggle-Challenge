{
  "nbformat": 4,
  "nbformat_minor": 0,
  "metadata": {
    "colab": {
      "name": "221_guided-project-notes.ipynb",
      "provenance": [],
      "collapsed_sections": []
    },
    "kernelspec": {
      "name": "python3",
      "display_name": "Python 3"
    }
  },
  "cells": [
    {
      "cell_type": "code",
      "metadata": {
        "colab": {
          "base_uri": "https://localhost:8080/"
        },
        "id": "3Jhfn6oz7hDW",
        "outputId": "220a3bcf-1c9b-4c75-c389-a020d217c8ed"
      },
      "source": [
        "!pip install category_encoders==2.*\n",
        "#!pip install pandas_profiling==2.*"
      ],
      "execution_count": null,
      "outputs": [
        {
          "output_type": "stream",
          "text": [
            "Collecting category_encoders==2.*\n",
            "  Downloading category_encoders-2.2.2-py2.py3-none-any.whl (80 kB)\n",
            "\u001b[?25l\r\u001b[K     |████                            | 10 kB 21.8 MB/s eta 0:00:01\r\u001b[K     |████████▏                       | 20 kB 27.6 MB/s eta 0:00:01\r\u001b[K     |████████████▏                   | 30 kB 20.1 MB/s eta 0:00:01\r\u001b[K     |████████████████▎               | 40 kB 16.7 MB/s eta 0:00:01\r\u001b[K     |████████████████████▎           | 51 kB 7.5 MB/s eta 0:00:01\r\u001b[K     |████████████████████████▍       | 61 kB 8.8 MB/s eta 0:00:01\r\u001b[K     |████████████████████████████▍   | 71 kB 8.1 MB/s eta 0:00:01\r\u001b[K     |████████████████████████████████| 80 kB 4.7 MB/s \n",
            "\u001b[?25hRequirement already satisfied: scipy>=1.0.0 in /usr/local/lib/python3.7/dist-packages (from category_encoders==2.*) (1.4.1)\n",
            "Requirement already satisfied: patsy>=0.5.1 in /usr/local/lib/python3.7/dist-packages (from category_encoders==2.*) (0.5.1)\n",
            "Requirement already satisfied: statsmodels>=0.9.0 in /usr/local/lib/python3.7/dist-packages (from category_encoders==2.*) (0.10.2)\n",
            "Requirement already satisfied: scikit-learn>=0.20.0 in /usr/local/lib/python3.7/dist-packages (from category_encoders==2.*) (0.22.2.post1)\n",
            "Requirement already satisfied: numpy>=1.14.0 in /usr/local/lib/python3.7/dist-packages (from category_encoders==2.*) (1.19.5)\n",
            "Requirement already satisfied: pandas>=0.21.1 in /usr/local/lib/python3.7/dist-packages (from category_encoders==2.*) (1.1.5)\n",
            "Requirement already satisfied: python-dateutil>=2.7.3 in /usr/local/lib/python3.7/dist-packages (from pandas>=0.21.1->category_encoders==2.*) (2.8.1)\n",
            "Requirement already satisfied: pytz>=2017.2 in /usr/local/lib/python3.7/dist-packages (from pandas>=0.21.1->category_encoders==2.*) (2018.9)\n",
            "Requirement already satisfied: six in /usr/local/lib/python3.7/dist-packages (from patsy>=0.5.1->category_encoders==2.*) (1.15.0)\n",
            "Requirement already satisfied: joblib>=0.11 in /usr/local/lib/python3.7/dist-packages (from scikit-learn>=0.20.0->category_encoders==2.*) (1.0.1)\n",
            "Installing collected packages: category-encoders\n",
            "Successfully installed category-encoders-2.2.2\n"
          ],
          "name": "stdout"
        }
      ]
    },
    {
      "cell_type": "code",
      "metadata": {
        "id": "Zp1eAYDMlLvn",
        "colab": {
          "base_uri": "https://localhost:8080/"
        },
        "outputId": "fe647c9f-f45a-4c5b-af47-053e742dd286"
      },
      "source": [
        "from sklearn.model_selection import train_test_split\n",
        "from sklearn.pipeline import make_pipeline\n",
        "from category_encoders import OneHotEncoder, OrdinalEncoder\n",
        "from sklearn.preprocessing import StandardScaler\n",
        "from sklearn.impute import SimpleImputer\n",
        "from sklearn.linear_model import LogisticRegression\n",
        "from sklearn.metrics import accuracy_score\n",
        "from sklearn.tree import DecisionTreeClassifier, plot_tree\n",
        "from pandas_profiling import ProfileReport\n",
        "import matplotlib.pyplot as plt\n",
        "import pandas as pd\n",
        "import numpy as np\n",
        "\n",
        "# pd.options.display.max_rows = 100"
      ],
      "execution_count": null,
      "outputs": [
        {
          "output_type": "stream",
          "text": [
            "/usr/local/lib/python3.7/dist-packages/statsmodels/tools/_testing.py:19: FutureWarning: pandas.util.testing is deprecated. Use the functions in the public API at pandas.testing instead.\n",
            "  import pandas.util.testing as tm\n"
          ],
          "name": "stderr"
        }
      ]
    },
    {
      "cell_type": "markdown",
      "metadata": {
        "id": "NvWhcow-dvS8"
      },
      "source": [
        "# Decision Trees\n",
        "\n",
        "- clean data with **outliers and missing values**\n",
        "- use scikit-learn for **decision trees**\n",
        "- get and interpret **feature importances** of a tree-based model\n",
        "- understand why decision trees are useful to model "
      ]
    },
    {
      "cell_type": "markdown",
      "metadata": {
        "id": "oCBYPw7kd1AN"
      },
      "source": [
        "# I. Wrangle Data\n",
        "\n",
        "### Import data\n",
        "\n"
      ]
    },
    {
      "cell_type": "code",
      "metadata": {
        "id": "Kv7LajUK58qZ"
      },
      "source": [
        "import pandas as pd\n",
        "from sklearn.model_selection import train_test_split\n"
      ],
      "execution_count": null,
      "outputs": []
    },
    {
      "cell_type": "code",
      "metadata": {
        "id": "mKL-rTbwJTm9",
        "colab": {
          "base_uri": "https://localhost:8080/",
          "height": 381
        },
        "outputId": "62186f64-4e42-4c8c-bf54-0b09ea6af510"
      },
      "source": [
        "df = pd.merge(pd.read_csv('train_features.csv', na_values = [0]), pd.read_csv('train_labels.csv', na_values = [0]))\n"
      ],
      "execution_count": null,
      "outputs": [
        {
          "output_type": "error",
          "ename": "FileNotFoundError",
          "evalue": "ignored",
          "traceback": [
            "\u001b[0;31m---------------------------------------------------------------------------\u001b[0m",
            "\u001b[0;31mFileNotFoundError\u001b[0m                         Traceback (most recent call last)",
            "\u001b[0;32m<ipython-input-4-9c29fe6d9064>\u001b[0m in \u001b[0;36m<module>\u001b[0;34m()\u001b[0m\n\u001b[0;32m----> 1\u001b[0;31m \u001b[0mdf\u001b[0m \u001b[0;34m=\u001b[0m \u001b[0mpd\u001b[0m\u001b[0;34m.\u001b[0m\u001b[0mmerge\u001b[0m\u001b[0;34m(\u001b[0m\u001b[0mpd\u001b[0m\u001b[0;34m.\u001b[0m\u001b[0mread_csv\u001b[0m\u001b[0;34m(\u001b[0m\u001b[0;34m'train_features.csv'\u001b[0m\u001b[0;34m,\u001b[0m \u001b[0mna_values\u001b[0m \u001b[0;34m=\u001b[0m \u001b[0;34m[\u001b[0m\u001b[0;36m0\u001b[0m\u001b[0;34m]\u001b[0m\u001b[0;34m)\u001b[0m\u001b[0;34m,\u001b[0m \u001b[0mpd\u001b[0m\u001b[0;34m.\u001b[0m\u001b[0mread_csv\u001b[0m\u001b[0;34m(\u001b[0m\u001b[0;34m'train_labels.csv'\u001b[0m\u001b[0;34m,\u001b[0m \u001b[0mna_values\u001b[0m \u001b[0;34m=\u001b[0m \u001b[0;34m[\u001b[0m\u001b[0;36m0\u001b[0m\u001b[0;34m]\u001b[0m\u001b[0;34m)\u001b[0m\u001b[0;34m)\u001b[0m\u001b[0;34m\u001b[0m\u001b[0;34m\u001b[0m\u001b[0m\n\u001b[0m",
            "\u001b[0;32m/usr/local/lib/python3.7/dist-packages/pandas/io/parsers.py\u001b[0m in \u001b[0;36mread_csv\u001b[0;34m(filepath_or_buffer, sep, delimiter, header, names, index_col, usecols, squeeze, prefix, mangle_dupe_cols, dtype, engine, converters, true_values, false_values, skipinitialspace, skiprows, skipfooter, nrows, na_values, keep_default_na, na_filter, verbose, skip_blank_lines, parse_dates, infer_datetime_format, keep_date_col, date_parser, dayfirst, cache_dates, iterator, chunksize, compression, thousands, decimal, lineterminator, quotechar, quoting, doublequote, escapechar, comment, encoding, dialect, error_bad_lines, warn_bad_lines, delim_whitespace, low_memory, memory_map, float_precision)\u001b[0m\n\u001b[1;32m    686\u001b[0m     )\n\u001b[1;32m    687\u001b[0m \u001b[0;34m\u001b[0m\u001b[0m\n\u001b[0;32m--> 688\u001b[0;31m     \u001b[0;32mreturn\u001b[0m \u001b[0m_read\u001b[0m\u001b[0;34m(\u001b[0m\u001b[0mfilepath_or_buffer\u001b[0m\u001b[0;34m,\u001b[0m \u001b[0mkwds\u001b[0m\u001b[0;34m)\u001b[0m\u001b[0;34m\u001b[0m\u001b[0;34m\u001b[0m\u001b[0m\n\u001b[0m\u001b[1;32m    689\u001b[0m \u001b[0;34m\u001b[0m\u001b[0m\n\u001b[1;32m    690\u001b[0m \u001b[0;34m\u001b[0m\u001b[0m\n",
            "\u001b[0;32m/usr/local/lib/python3.7/dist-packages/pandas/io/parsers.py\u001b[0m in \u001b[0;36m_read\u001b[0;34m(filepath_or_buffer, kwds)\u001b[0m\n\u001b[1;32m    452\u001b[0m \u001b[0;34m\u001b[0m\u001b[0m\n\u001b[1;32m    453\u001b[0m     \u001b[0;31m# Create the parser.\u001b[0m\u001b[0;34m\u001b[0m\u001b[0;34m\u001b[0m\u001b[0;34m\u001b[0m\u001b[0m\n\u001b[0;32m--> 454\u001b[0;31m     \u001b[0mparser\u001b[0m \u001b[0;34m=\u001b[0m \u001b[0mTextFileReader\u001b[0m\u001b[0;34m(\u001b[0m\u001b[0mfp_or_buf\u001b[0m\u001b[0;34m,\u001b[0m \u001b[0;34m**\u001b[0m\u001b[0mkwds\u001b[0m\u001b[0;34m)\u001b[0m\u001b[0;34m\u001b[0m\u001b[0;34m\u001b[0m\u001b[0m\n\u001b[0m\u001b[1;32m    455\u001b[0m \u001b[0;34m\u001b[0m\u001b[0m\n\u001b[1;32m    456\u001b[0m     \u001b[0;32mif\u001b[0m \u001b[0mchunksize\u001b[0m \u001b[0;32mor\u001b[0m \u001b[0miterator\u001b[0m\u001b[0;34m:\u001b[0m\u001b[0;34m\u001b[0m\u001b[0;34m\u001b[0m\u001b[0m\n",
            "\u001b[0;32m/usr/local/lib/python3.7/dist-packages/pandas/io/parsers.py\u001b[0m in \u001b[0;36m__init__\u001b[0;34m(self, f, engine, **kwds)\u001b[0m\n\u001b[1;32m    946\u001b[0m             \u001b[0mself\u001b[0m\u001b[0;34m.\u001b[0m\u001b[0moptions\u001b[0m\u001b[0;34m[\u001b[0m\u001b[0;34m\"has_index_names\"\u001b[0m\u001b[0;34m]\u001b[0m \u001b[0;34m=\u001b[0m \u001b[0mkwds\u001b[0m\u001b[0;34m[\u001b[0m\u001b[0;34m\"has_index_names\"\u001b[0m\u001b[0;34m]\u001b[0m\u001b[0;34m\u001b[0m\u001b[0;34m\u001b[0m\u001b[0m\n\u001b[1;32m    947\u001b[0m \u001b[0;34m\u001b[0m\u001b[0m\n\u001b[0;32m--> 948\u001b[0;31m         \u001b[0mself\u001b[0m\u001b[0;34m.\u001b[0m\u001b[0m_make_engine\u001b[0m\u001b[0;34m(\u001b[0m\u001b[0mself\u001b[0m\u001b[0;34m.\u001b[0m\u001b[0mengine\u001b[0m\u001b[0;34m)\u001b[0m\u001b[0;34m\u001b[0m\u001b[0;34m\u001b[0m\u001b[0m\n\u001b[0m\u001b[1;32m    949\u001b[0m \u001b[0;34m\u001b[0m\u001b[0m\n\u001b[1;32m    950\u001b[0m     \u001b[0;32mdef\u001b[0m \u001b[0mclose\u001b[0m\u001b[0;34m(\u001b[0m\u001b[0mself\u001b[0m\u001b[0;34m)\u001b[0m\u001b[0;34m:\u001b[0m\u001b[0;34m\u001b[0m\u001b[0;34m\u001b[0m\u001b[0m\n",
            "\u001b[0;32m/usr/local/lib/python3.7/dist-packages/pandas/io/parsers.py\u001b[0m in \u001b[0;36m_make_engine\u001b[0;34m(self, engine)\u001b[0m\n\u001b[1;32m   1178\u001b[0m     \u001b[0;32mdef\u001b[0m \u001b[0m_make_engine\u001b[0m\u001b[0;34m(\u001b[0m\u001b[0mself\u001b[0m\u001b[0;34m,\u001b[0m \u001b[0mengine\u001b[0m\u001b[0;34m=\u001b[0m\u001b[0;34m\"c\"\u001b[0m\u001b[0;34m)\u001b[0m\u001b[0;34m:\u001b[0m\u001b[0;34m\u001b[0m\u001b[0;34m\u001b[0m\u001b[0m\n\u001b[1;32m   1179\u001b[0m         \u001b[0;32mif\u001b[0m \u001b[0mengine\u001b[0m \u001b[0;34m==\u001b[0m \u001b[0;34m\"c\"\u001b[0m\u001b[0;34m:\u001b[0m\u001b[0;34m\u001b[0m\u001b[0;34m\u001b[0m\u001b[0m\n\u001b[0;32m-> 1180\u001b[0;31m             \u001b[0mself\u001b[0m\u001b[0;34m.\u001b[0m\u001b[0m_engine\u001b[0m \u001b[0;34m=\u001b[0m \u001b[0mCParserWrapper\u001b[0m\u001b[0;34m(\u001b[0m\u001b[0mself\u001b[0m\u001b[0;34m.\u001b[0m\u001b[0mf\u001b[0m\u001b[0;34m,\u001b[0m \u001b[0;34m**\u001b[0m\u001b[0mself\u001b[0m\u001b[0;34m.\u001b[0m\u001b[0moptions\u001b[0m\u001b[0;34m)\u001b[0m\u001b[0;34m\u001b[0m\u001b[0;34m\u001b[0m\u001b[0m\n\u001b[0m\u001b[1;32m   1181\u001b[0m         \u001b[0;32melse\u001b[0m\u001b[0;34m:\u001b[0m\u001b[0;34m\u001b[0m\u001b[0;34m\u001b[0m\u001b[0m\n\u001b[1;32m   1182\u001b[0m             \u001b[0;32mif\u001b[0m \u001b[0mengine\u001b[0m \u001b[0;34m==\u001b[0m \u001b[0;34m\"python\"\u001b[0m\u001b[0;34m:\u001b[0m\u001b[0;34m\u001b[0m\u001b[0;34m\u001b[0m\u001b[0m\n",
            "\u001b[0;32m/usr/local/lib/python3.7/dist-packages/pandas/io/parsers.py\u001b[0m in \u001b[0;36m__init__\u001b[0;34m(self, src, **kwds)\u001b[0m\n\u001b[1;32m   2008\u001b[0m         \u001b[0mkwds\u001b[0m\u001b[0;34m[\u001b[0m\u001b[0;34m\"usecols\"\u001b[0m\u001b[0;34m]\u001b[0m \u001b[0;34m=\u001b[0m \u001b[0mself\u001b[0m\u001b[0;34m.\u001b[0m\u001b[0musecols\u001b[0m\u001b[0;34m\u001b[0m\u001b[0;34m\u001b[0m\u001b[0m\n\u001b[1;32m   2009\u001b[0m \u001b[0;34m\u001b[0m\u001b[0m\n\u001b[0;32m-> 2010\u001b[0;31m         \u001b[0mself\u001b[0m\u001b[0;34m.\u001b[0m\u001b[0m_reader\u001b[0m \u001b[0;34m=\u001b[0m \u001b[0mparsers\u001b[0m\u001b[0;34m.\u001b[0m\u001b[0mTextReader\u001b[0m\u001b[0;34m(\u001b[0m\u001b[0msrc\u001b[0m\u001b[0;34m,\u001b[0m \u001b[0;34m**\u001b[0m\u001b[0mkwds\u001b[0m\u001b[0;34m)\u001b[0m\u001b[0;34m\u001b[0m\u001b[0;34m\u001b[0m\u001b[0m\n\u001b[0m\u001b[1;32m   2011\u001b[0m         \u001b[0mself\u001b[0m\u001b[0;34m.\u001b[0m\u001b[0munnamed_cols\u001b[0m \u001b[0;34m=\u001b[0m \u001b[0mself\u001b[0m\u001b[0;34m.\u001b[0m\u001b[0m_reader\u001b[0m\u001b[0;34m.\u001b[0m\u001b[0munnamed_cols\u001b[0m\u001b[0;34m\u001b[0m\u001b[0;34m\u001b[0m\u001b[0m\n\u001b[1;32m   2012\u001b[0m \u001b[0;34m\u001b[0m\u001b[0m\n",
            "\u001b[0;32mpandas/_libs/parsers.pyx\u001b[0m in \u001b[0;36mpandas._libs.parsers.TextReader.__cinit__\u001b[0;34m()\u001b[0m\n",
            "\u001b[0;32mpandas/_libs/parsers.pyx\u001b[0m in \u001b[0;36mpandas._libs.parsers.TextReader._setup_parser_source\u001b[0;34m()\u001b[0m\n",
            "\u001b[0;31mFileNotFoundError\u001b[0m: [Errno 2] No such file or directory: 'train_features.csv'"
          ]
        }
      ]
    },
    {
      "cell_type": "code",
      "metadata": {
        "id": "c9RcAnAV451-"
      },
      "source": [
        "def wrangle(temp_df):\n",
        "\n",
        "  #set row index to 'id column\n",
        "  temp_df.set_index('id', inplace = True)\n",
        "\n",
        "  #Drop the constant column 'recorded by' and the duplicate column 'quantity group'\n",
        "  df.drop(columns=['recorded_by', 'quantity_group'], inplace = True, errors='ignore')\n",
        "\n",
        "  # Drop High-Cardinality Columns\n",
        "  cols_to_drop = [col for col in df.select_dtypes('object') if df[col].nunique() > 100]\n",
        "  df.drop(columns=cols_to_drop, inplace=True, errors='ignore')\n",
        "  \n",
        "  # Drop columns with a high proportion of null values\n",
        "  df.drop(columns='num_private', inplace=True, errors='ignore')\n",
        "  \n",
        "  return temp_df\n"
      ],
      "execution_count": null,
      "outputs": []
    },
    {
      "cell_type": "code",
      "metadata": {
        "id": "XzUKGal_-Kbc"
      },
      "source": [
        "#df['recorded_by'].value_counts()\n",
        "#df['num_private'].value_counts(dropna=False)"
      ],
      "execution_count": null,
      "outputs": []
    },
    {
      "cell_type": "code",
      "metadata": {
        "id": "k9o_esln__ae"
      },
      "source": [
        "train = wrangle(df)"
      ],
      "execution_count": null,
      "outputs": []
    },
    {
      "cell_type": "markdown",
      "metadata": {
        "id": "xpxcaA6yUwzP"
      },
      "source": [
        "### EDA"
      ]
    },
    {
      "cell_type": "code",
      "metadata": {
        "id": "WOLNRbv02heO"
      },
      "source": [
        "train.shape\n",
        "train.head()"
      ],
      "execution_count": null,
      "outputs": []
    },
    {
      "cell_type": "code",
      "metadata": {
        "id": "ulZMnyZBAMN_"
      },
      "source": [
        "train.isnull().sum()"
      ],
      "execution_count": null,
      "outputs": []
    },
    {
      "cell_type": "code",
      "metadata": {
        "id": "Dolh-MN-AWpf"
      },
      "source": [
        "import seaborn as sns\n",
        "\n",
        "sns.scatterplot(x = 'longitude', y = 'latitude', data = train, alpha = .01)"
      ],
      "execution_count": null,
      "outputs": []
    },
    {
      "cell_type": "code",
      "metadata": {
        "id": "6Ap8RchKA8OD"
      },
      "source": [
        "sns.set(rc={'figure.figsize':(15, 10)})\n",
        "sns.scatterplot(x = 'longitude', y = 'latitude', data = train,  hue = 'status_group')"
      ],
      "execution_count": null,
      "outputs": []
    },
    {
      "cell_type": "code",
      "metadata": {
        "id": "d7bCdyHeBfyV"
      },
      "source": [
        "#report = ProfileReport(train, minimal=True).to_notebook_iframe()\n",
        "\n",
        "#report"
      ],
      "execution_count": null,
      "outputs": []
    },
    {
      "cell_type": "markdown",
      "metadata": {
        "id": "jetWccxMqmzY"
      },
      "source": [
        "# II. Split Data"
      ]
    },
    {
      "cell_type": "markdown",
      "metadata": {
        "id": "y-MPA0qlr-mK"
      },
      "source": [
        "## Split Target Vector from Feature Matrix"
      ]
    },
    {
      "cell_type": "code",
      "metadata": {
        "id": "JsquPmP26y7h"
      },
      "source": [
        "target = 'status_group'\n",
        "\n",
        "y = train[target]\n",
        "\n",
        "X = train.drop(columns = target)"
      ],
      "execution_count": null,
      "outputs": []
    },
    {
      "cell_type": "markdown",
      "metadata": {
        "id": "n8jSWomGsLsw"
      },
      "source": [
        "## Training-Validation Split"
      ]
    },
    {
      "cell_type": "code",
      "metadata": {
        "id": "bXikcdMD2vON"
      },
      "source": [
        "X_train, X_val, y_train, y_val = train_test_split(X, y, test_size = .2, random_state = 5)"
      ],
      "execution_count": null,
      "outputs": []
    },
    {
      "cell_type": "markdown",
      "metadata": {
        "id": "WX9uvMMgs6J_"
      },
      "source": [
        "# III. Establish Baseline\n",
        "\n",
        "- Is this a *regression* or a *classification* problem?\n",
        "- Because it's a **classification** problem, we need to calculate baseline accuracy based on our majority class. "
      ]
    },
    {
      "cell_type": "code",
      "metadata": {
        "id": "oTW9yRjI2wzD"
      },
      "source": [
        "print('Baseline Accurary', y_train.value_counts(normalize = True).max()*100)"
      ],
      "execution_count": null,
      "outputs": []
    },
    {
      "cell_type": "markdown",
      "metadata": {
        "id": "MA19NsrFtgTT"
      },
      "source": [
        "# IV. Build Model(s)\n",
        "\n",
        "- Encoder for categorical features.\n",
        "- Imputer for missing values.\n",
        "- `StandardScaler` for `LogisticRegression`"
      ]
    },
    {
      "cell_type": "markdown",
      "metadata": {
        "id": "Q2_AEFsZKGCK"
      },
      "source": [
        "**First Model:** Logistic Regression"
      ]
    },
    {
      "cell_type": "code",
      "metadata": {
        "id": "wRziCiGa2ynR",
        "colab": {
          "base_uri": "https://localhost:8080/"
        },
        "outputId": "8c9d251b-a36f-4045-e049-2f9439ca67c1"
      },
      "source": [
        "model_lr = make_pipeline(\n",
        "    OneHotEncoder(use_cat_names=True),\n",
        "    SimpleImputer(strategy='mean'),\n",
        "    StandardScaler(),\n",
        "    LogisticRegression(max_iter=200)\n",
        ")\n",
        "\n",
        "model_lr.fit(X_train, y_train)"
      ],
      "execution_count": null,
      "outputs": [
        {
          "output_type": "stream",
          "text": [
            "/usr/local/lib/python3.7/dist-packages/category_encoders/utils.py:21: FutureWarning: is_categorical is deprecated and will be removed in a future version.  Use is_categorical_dtype instead\n",
            "  elif pd.api.types.is_categorical(cols):\n"
          ],
          "name": "stderr"
        },
        {
          "output_type": "execute_result",
          "data": {
            "text/plain": [
              "Pipeline(memory=None,\n",
              "         steps=[('onehotencoder',\n",
              "                 OneHotEncoder(cols=['basin', 'region', 'public_meeting',\n",
              "                                     'scheme_management', 'permit',\n",
              "                                     'extraction_type', 'extraction_type_group',\n",
              "                                     'extraction_type_class', 'management',\n",
              "                                     'management_group', 'payment',\n",
              "                                     'payment_type', 'water_quality',\n",
              "                                     'quality_group', 'quantity', 'source',\n",
              "                                     'source_type', 'source_class',\n",
              "                                     'waterpoint_type',...\n",
              "                               verbose=0)),\n",
              "                ('standardscaler',\n",
              "                 StandardScaler(copy=True, with_mean=True, with_std=True)),\n",
              "                ('logisticregression',\n",
              "                 LogisticRegression(C=1.0, class_weight=None, dual=False,\n",
              "                                    fit_intercept=True, intercept_scaling=1,\n",
              "                                    l1_ratio=None, max_iter=200,\n",
              "                                    multi_class='auto', n_jobs=None,\n",
              "                                    penalty='l2', random_state=None,\n",
              "                                    solver='lbfgs', tol=0.0001, verbose=0,\n",
              "                                    warm_start=False))],\n",
              "         verbose=False)"
            ]
          },
          "metadata": {
            "tags": []
          },
          "execution_count": 19
        }
      ]
    },
    {
      "cell_type": "markdown",
      "metadata": {
        "id": "AMFtqMtkMbRw"
      },
      "source": [
        "**Second Model:** Decision Tree Classifier"
      ]
    },
    {
      "cell_type": "code",
      "metadata": {
        "id": "ukHNb4IND00z",
        "colab": {
          "base_uri": "https://localhost:8080/"
        },
        "outputId": "997c2d5e-5ea9-41e7-d6c1-7a0af1bcf152"
      },
      "source": [
        "model_dt = make_pipeline(\n",
        "    OneHotEncoder(use_cat_names=True),\n",
        "    SimpleImputer(strategy='mean'),\n",
        "    StandardScaler(),\n",
        "    DecisionTreeClassifier(random_state= 42, max_depth=16)\n",
        ")\n",
        "\n",
        "model_dt.fit(X_train, y_train)"
      ],
      "execution_count": null,
      "outputs": [
        {
          "output_type": "stream",
          "text": [
            "/usr/local/lib/python3.7/dist-packages/category_encoders/utils.py:21: FutureWarning: is_categorical is deprecated and will be removed in a future version.  Use is_categorical_dtype instead\n",
            "  elif pd.api.types.is_categorical(cols):\n"
          ],
          "name": "stderr"
        },
        {
          "output_type": "execute_result",
          "data": {
            "text/plain": [
              "Pipeline(memory=None,\n",
              "         steps=[('onehotencoder',\n",
              "                 OneHotEncoder(cols=['basin', 'region', 'public_meeting',\n",
              "                                     'scheme_management', 'permit',\n",
              "                                     'extraction_type', 'extraction_type_group',\n",
              "                                     'extraction_type_class', 'management',\n",
              "                                     'management_group', 'payment',\n",
              "                                     'payment_type', 'water_quality',\n",
              "                                     'quality_group', 'quantity', 'source',\n",
              "                                     'source_type', 'source_class',\n",
              "                                     'waterpoint_type',...\n",
              "                 StandardScaler(copy=True, with_mean=True, with_std=True)),\n",
              "                ('decisiontreeclassifier',\n",
              "                 DecisionTreeClassifier(ccp_alpha=0.0, class_weight=None,\n",
              "                                        criterion='gini', max_depth=16,\n",
              "                                        max_features=None, max_leaf_nodes=None,\n",
              "                                        min_impurity_decrease=0.0,\n",
              "                                        min_impurity_split=None,\n",
              "                                        min_samples_leaf=1, min_samples_split=2,\n",
              "                                        min_weight_fraction_leaf=0.0,\n",
              "                                        presort='deprecated', random_state=42,\n",
              "                                        splitter='best'))],\n",
              "         verbose=False)"
            ]
          },
          "metadata": {
            "tags": []
          },
          "execution_count": 20
        }
      ]
    },
    {
      "cell_type": "markdown",
      "metadata": {
        "id": "D63CwGlVvtSu"
      },
      "source": [
        "**Interlude: How does a tree model work?**"
      ]
    },
    {
      "cell_type": "code",
      "metadata": {
        "id": "O_7htR5XaGYA",
        "colab": {
          "base_uri": "https://localhost:8080/"
        },
        "outputId": "ef329b46-6586-4772-a922-cfed3c7e7070"
      },
      "source": [
        "plt.figure(figsize = (60,15))\n",
        "\n",
        "plot_tree(model_dt.named_steps['decisiontreeclassifier'],\n",
        "          max_depth = 4,\n",
        "      #    feature_names = X_train.columns,\n",
        "          filled = True)"
      ],
      "execution_count": null,
      "outputs": [
        {
          "output_type": "execute_result",
          "data": {
            "text/plain": [
              "[Text(1674.0, 747.4499999999999, 'X[141] <= 1.273\\ngini = 0.552\\nsamples = 38016\\nvalue = [20676, 2740, 14600]'),\n",
              " Text(837.0, 611.55, 'X[168] <= 1.28\\ngini = 0.528\\nsamples = 33955\\nvalue = [20569, 2711, 10675]'),\n",
              " Text(418.5, 475.65, 'X[167] <= 1.309\\ngini = 0.499\\nsamples = 30814\\nvalue = [20035, 2529, 8250]'),\n",
              " Text(209.25, 339.74999999999994, 'X[112] <= 0.149\\ngini = 0.474\\nsamples = 27475\\nvalue = [18619, 2101, 6755]'),\n",
              " Text(104.625, 203.8499999999999, 'X[15] <= 1.438\\ngini = 0.413\\nsamples = 16178\\nvalue = [11949, 1109, 3120]'),\n",
              " Text(52.3125, 67.94999999999993, '\\n  (...)  \\n'),\n",
              " Text(156.9375, 67.94999999999993, '\\n  (...)  \\n'),\n",
              " Text(313.875, 203.8499999999999, 'X[56] <= -0.042\\ngini = 0.54\\nsamples = 11297\\nvalue = [6670, 992, 3635]'),\n",
              " Text(261.5625, 67.94999999999993, '\\n  (...)  \\n'),\n",
              " Text(366.1875, 67.94999999999993, '\\n  (...)  \\n'),\n",
              " Text(627.75, 339.74999999999994, 'X[56] <= -0.529\\ngini = 0.603\\nsamples = 3339\\nvalue = [1416, 428, 1495]'),\n",
              " Text(523.125, 203.8499999999999, 'X[2] <= -1.965\\ngini = 0.476\\nsamples = 886\\nvalue = [170, 107, 609]'),\n",
              " Text(470.8125, 67.94999999999993, '\\n  (...)  \\n'),\n",
              " Text(575.4375, 67.94999999999993, '\\n  (...)  \\n'),\n",
              " Text(732.375, 203.8499999999999, 'X[2] <= -1.853\\ngini = 0.594\\nsamples = 2453\\nvalue = [1246, 321, 886]'),\n",
              " Text(680.0625, 67.94999999999993, '\\n  (...)  \\n'),\n",
              " Text(784.6875, 67.94999999999993, '\\n  (...)  \\n'),\n",
              " Text(1255.5, 475.65, 'X[147] <= 0.478\\ngini = 0.372\\nsamples = 3141\\nvalue = [534, 182, 2425]'),\n",
              " Text(1046.25, 339.74999999999994, 'X[79] <= 1.289\\ngini = 0.291\\nsamples = 2532\\nvalue = [346, 84, 2102]'),\n",
              " Text(941.625, 203.8499999999999, 'X[138] <= 4.109\\ngini = 0.263\\nsamples = 2402\\nvalue = [282, 79, 2041]'),\n",
              " Text(889.3125, 67.94999999999993, '\\n  (...)  \\n'),\n",
              " Text(993.9375, 67.94999999999993, '\\n  (...)  \\n'),\n",
              " Text(1150.875, 203.8499999999999, 'X[109] <= 1.842\\ngini = 0.536\\nsamples = 130\\nvalue = [64, 5, 61]'),\n",
              " Text(1098.5625, 67.94999999999993, '\\n  (...)  \\n'),\n",
              " Text(1203.1875, 67.94999999999993, '\\n  (...)  \\n'),\n",
              " Text(1464.75, 339.74999999999994, 'X[2] <= 0.043\\ngini = 0.598\\nsamples = 609\\nvalue = [188, 98, 323]'),\n",
              " Text(1360.125, 203.8499999999999, 'X[35] <= -0.43\\ngini = 0.55\\nsamples = 221\\nvalue = [134, 54, 33]'),\n",
              " Text(1307.8125, 67.94999999999993, '\\n  (...)  \\n'),\n",
              " Text(1412.4375, 67.94999999999993, '\\n  (...)  \\n'),\n",
              " Text(1569.375, 203.8499999999999, 'X[36] <= -0.553\\ngini = 0.409\\nsamples = 388\\nvalue = [54, 44, 290]'),\n",
              " Text(1517.0625, 67.94999999999993, '\\n  (...)  \\n'),\n",
              " Text(1621.6875, 67.94999999999993, '\\n  (...)  \\n'),\n",
              " Text(2511.0, 611.55, 'X[88] <= 0.494\\ngini = 0.065\\nsamples = 4061\\nvalue = [107, 29, 3925]'),\n",
              " Text(2092.5, 475.65, 'X[56] <= 1.255\\ngini = 0.039\\nsamples = 3336\\nvalue = [46, 20, 3270]'),\n",
              " Text(1883.25, 339.74999999999994, 'X[158] <= 2.399\\ngini = 0.031\\nsamples = 3234\\nvalue = [31, 20, 3183]'),\n",
              " Text(1778.625, 203.8499999999999, 'X[30] <= 2.515\\ngini = 0.024\\nsamples = 3146\\nvalue = [24, 14, 3108]'),\n",
              " Text(1726.3125, 67.94999999999993, '\\n  (...)  \\n'),\n",
              " Text(1830.9375, 67.94999999999993, '\\n  (...)  \\n'),\n",
              " Text(1987.875, 203.8499999999999, 'X[109] <= 1.842\\ngini = 0.263\\nsamples = 88\\nvalue = [7, 6, 75]'),\n",
              " Text(1935.5625, 67.94999999999993, '\\n  (...)  \\n'),\n",
              " Text(2040.1875, 67.94999999999993, '\\n  (...)  \\n'),\n",
              " Text(2301.75, 339.74999999999994, 'X[3] <= -1.708\\ngini = 0.251\\nsamples = 102\\nvalue = [15, 0, 87]'),\n",
              " Text(2197.125, 203.8499999999999, 'X[3] <= -1.861\\ngini = 0.444\\nsamples = 15\\nvalue = [10, 0, 5]'),\n",
              " Text(2144.8125, 67.94999999999993, '\\n  (...)  \\n'),\n",
              " Text(2249.4375, 67.94999999999993, '\\n  (...)  \\n'),\n",
              " Text(2406.375, 203.8499999999999, 'X[45] <= 2.01\\ngini = 0.108\\nsamples = 87\\nvalue = [5, 0, 82]'),\n",
              " Text(2354.0625, 67.94999999999993, '\\n  (...)  \\n'),\n",
              " Text(2458.6875, 67.94999999999993, '\\n  (...)  \\n'),\n",
              " Text(2929.5, 475.65, 'X[3] <= 0.506\\ngini = 0.177\\nsamples = 725\\nvalue = [61, 9, 655]'),\n",
              " Text(2720.25, 339.74999999999994, 'X[43] <= 1.766\\ngini = 0.089\\nsamples = 452\\nvalue = [15, 6, 431]'),\n",
              " Text(2615.625, 203.8499999999999, 'X[1] <= -2.115\\ngini = 0.072\\nsamples = 433\\nvalue = [10, 6, 417]'),\n",
              " Text(2563.3125, 67.94999999999993, '\\n  (...)  \\n'),\n",
              " Text(2667.9375, 67.94999999999993, '\\n  (...)  \\n'),\n",
              " Text(2824.875, 203.8499999999999, 'X[56] <= 0.957\\ngini = 0.388\\nsamples = 19\\nvalue = [5, 0, 14]'),\n",
              " Text(2772.5625, 67.94999999999993, '\\n  (...)  \\n'),\n",
              " Text(2877.1875, 67.94999999999993, '\\n  (...)  \\n'),\n",
              " Text(3138.75, 339.74999999999994, 'X[119] <= 0.149\\ngini = 0.298\\nsamples = 273\\nvalue = [46, 3, 224]'),\n",
              " Text(3034.125, 203.8499999999999, 'X[120] <= 1.851\\ngini = 0.12\\nsamples = 109\\nvalue = [7, 0, 102]'),\n",
              " Text(2981.8125, 67.94999999999993, '\\n  (...)  \\n'),\n",
              " Text(3086.4375, 67.94999999999993, '\\n  (...)  \\n'),\n",
              " Text(3243.375, 203.8499999999999, 'X[2] <= -0.725\\ngini = 0.39\\nsamples = 164\\nvalue = [39, 3, 122]'),\n",
              " Text(3191.0625, 67.94999999999993, '\\n  (...)  \\n'),\n",
              " Text(3295.6875, 67.94999999999993, '\\n  (...)  \\n')]"
            ]
          },
          "metadata": {
            "tags": []
          },
          "execution_count": 21
        }
      ]
    },
    {
      "cell_type": "code",
      "metadata": {
        "colab": {
          "base_uri": "https://localhost:8080/"
        },
        "id": "LYrZqctTInzj",
        "outputId": "910fbbb0-bc76-4316-f4a6-c43a6ef743d8"
      },
      "source": [
        "model_dt_or = make_pipeline(\n",
        "    OneHotEncoder(use_cat_names=True),\n",
        "    SimpleImputer(strategy='mean'),\n",
        "    StandardScaler(),\n",
        "    DecisionTreeClassifier(random_state= 42, max_depth=4)\n",
        ")\n",
        "\n",
        "model_dt_or.fit(X_train, y_train)"
      ],
      "execution_count": null,
      "outputs": [
        {
          "output_type": "stream",
          "text": [
            "/usr/local/lib/python3.7/dist-packages/category_encoders/utils.py:21: FutureWarning: is_categorical is deprecated and will be removed in a future version.  Use is_categorical_dtype instead\n",
            "  elif pd.api.types.is_categorical(cols):\n"
          ],
          "name": "stderr"
        },
        {
          "output_type": "execute_result",
          "data": {
            "text/plain": [
              "Pipeline(memory=None,\n",
              "         steps=[('onehotencoder',\n",
              "                 OneHotEncoder(cols=['basin', 'region', 'public_meeting',\n",
              "                                     'scheme_management', 'permit',\n",
              "                                     'extraction_type', 'extraction_type_group',\n",
              "                                     'extraction_type_class', 'management',\n",
              "                                     'management_group', 'payment',\n",
              "                                     'payment_type', 'water_quality',\n",
              "                                     'quality_group', 'quantity', 'source',\n",
              "                                     'source_type', 'source_class',\n",
              "                                     'waterpoint_type',...\n",
              "                 StandardScaler(copy=True, with_mean=True, with_std=True)),\n",
              "                ('decisiontreeclassifier',\n",
              "                 DecisionTreeClassifier(ccp_alpha=0.0, class_weight=None,\n",
              "                                        criterion='gini', max_depth=4,\n",
              "                                        max_features=None, max_leaf_nodes=None,\n",
              "                                        min_impurity_decrease=0.0,\n",
              "                                        min_impurity_split=None,\n",
              "                                        min_samples_leaf=1, min_samples_split=2,\n",
              "                                        min_weight_fraction_leaf=0.0,\n",
              "                                        presort='deprecated', random_state=42,\n",
              "                                        splitter='best'))],\n",
              "         verbose=False)"
            ]
          },
          "metadata": {
            "tags": []
          },
          "execution_count": 22
        }
      ]
    },
    {
      "cell_type": "markdown",
      "metadata": {
        "id": "v7Cr2n7Vu9cb"
      },
      "source": [
        "# V. Check Metrics"
      ]
    },
    {
      "cell_type": "code",
      "metadata": {
        "id": "vmjtTct2IoXk",
        "colab": {
          "base_uri": "https://localhost:8080/"
        },
        "outputId": "00e8977c-2d4b-4de9-f8b7-535d958eccb7"
      },
      "source": [
        "print('model_lr accuracy score for training', accuracy_score(y_train, model_lr.predict(X_train)))\n",
        "print('model_lr accuracy score for val', accuracy_score(y_val, model_lr.predict(X_val)))"
      ],
      "execution_count": null,
      "outputs": [
        {
          "output_type": "stream",
          "text": [
            "model_lr accuracy score for training 0.7386363636363636\n",
            "model_lr accuracy score for val 0.7376893939393939\n"
          ],
          "name": "stdout"
        }
      ]
    },
    {
      "cell_type": "code",
      "metadata": {
        "id": "DUix0NCRNUO-",
        "colab": {
          "base_uri": "https://localhost:8080/"
        },
        "outputId": "e4e8588f-cb2e-45b1-c9bf-d27bde451ebd"
      },
      "source": [
        "print('model_dt accuracy score for training', accuracy_score(y_train, model_dt.predict(X_train)))\n",
        "print('model_dt accuracy score for val', accuracy_score(y_val, model_dt.predict(X_val)))"
      ],
      "execution_count": null,
      "outputs": [
        {
          "output_type": "stream",
          "text": [
            "model_dt accuracy score for training 0.8380155723905723\n",
            "model_dt accuracy score for val 0.7668350168350169\n"
          ],
          "name": "stdout"
        }
      ]
    },
    {
      "cell_type": "code",
      "metadata": {
        "id": "IRfHMuGGFOua",
        "colab": {
          "base_uri": "https://localhost:8080/"
        },
        "outputId": "b2a7b45d-3b22-4ff3-e493-d05adac65e70"
      },
      "source": [
        "print('model_dt accuracy score for training', accuracy_score(y_train, model_dt_or.predict(X_train)))\n",
        "print('model_dt accuracy score for val', accuracy_score(y_val, model_dt_or.predict(X_val)))"
      ],
      "execution_count": null,
      "outputs": [
        {
          "output_type": "stream",
          "text": [
            "model_dt accuracy score for training 0.7084648569023569\n",
            "model_dt accuracy score for val 0.7024410774410774\n"
          ],
          "name": "stdout"
        }
      ]
    },
    {
      "cell_type": "markdown",
      "metadata": {
        "id": "gln6sVSS4ZmQ"
      },
      "source": [
        "# VI. Tune Model\n",
        "\n",
        "Let's look at the hyperparameter `max_depth`"
      ]
    },
    {
      "cell_type": "code",
      "metadata": {
        "id": "YCEP2xq0TcuG",
        "colab": {
          "base_uri": "https://localhost:8080/"
        },
        "outputId": "5918779b-0448-43ad-b861-5a48e8691bba"
      },
      "source": [
        "depths = range(12, 40, 2)\n",
        "\n",
        "list(depths)"
      ],
      "execution_count": null,
      "outputs": [
        {
          "output_type": "execute_result",
          "data": {
            "text/plain": [
              "[12, 14, 16, 18, 20, 22, 24, 26, 28, 30, 32, 34, 36, 38]"
            ]
          },
          "metadata": {
            "tags": []
          },
          "execution_count": 26
        }
      ]
    },
    {
      "cell_type": "code",
      "metadata": {
        "id": "9uBiWQyMJGJz"
      },
      "source": [
        "train_acc = []\n",
        "val_acc = []\n",
        "\n",
        "for depth in depths:\n",
        "   \n",
        "  tree_model = make_pipeline(\n",
        "      OrdinalEncoder(),\n",
        "      SimpleImputer(),\n",
        "      DecisionTreeClassifier(max_depth=depth, random_state=42)\n",
        "  )\n",
        "\n",
        "  tree_model.fit(X_train, y_train)\n",
        "  train_acc.append(tree_model.score(X_train, y_train))\n",
        "  val_acc.append(tree_model.score(X_val, y_val))"
      ],
      "execution_count": null,
      "outputs": []
    },
    {
      "cell_type": "code",
      "metadata": {
        "colab": {
          "base_uri": "https://localhost:8080/"
        },
        "id": "23jYDz1nJY-0",
        "outputId": "12b454c5-81db-4d58-e9ff-8840adf3dc02"
      },
      "source": [
        "val_acc"
      ],
      "execution_count": null,
      "outputs": [
        {
          "output_type": "execute_result",
          "data": {
            "text/plain": [
              "[0.7608375420875421,\n",
              " 0.7646254208754208,\n",
              " 0.7689393939393939,\n",
              " 0.7669402356902357,\n",
              " 0.7593644781144782,\n",
              " 0.7541035353535354,\n",
              " 0.7523148148148148,\n",
              " 0.7501052188552189,\n",
              " 0.7480008417508418,\n",
              " 0.7494739057239057,\n",
              " 0.7472643097643098,\n",
              " 0.749263468013468,\n",
              " 0.7489478114478114,\n",
              " 0.7457912457912458]"
            ]
          },
          "metadata": {
            "tags": []
          },
          "execution_count": 28
        }
      ]
    },
    {
      "cell_type": "code",
      "metadata": {
        "id": "hzy6xFAjJsm0"
      },
      "source": [
        "plt.plot(depths, train_acc, color='blue', label='training')\n",
        "plt.plot(depths, val_acc, color='orange', label='validation')\n",
        "plt.xlabel('max_depth')\n",
        "plt.ylabel('accuracy')\n",
        "plt.legend()\n",
        "plt.show()"
      ],
      "execution_count": null,
      "outputs": []
    },
    {
      "cell_type": "markdown",
      "metadata": {
        "id": "syHY33Wr2O9F"
      },
      "source": [
        "# VII. Communicate Results\n"
      ]
    },
    {
      "cell_type": "markdown",
      "metadata": {
        "id": "4BXV7dsiUhyo"
      },
      "source": [
        "### Gini importance"
      ]
    },
    {
      "cell_type": "code",
      "metadata": {
        "id": "D0RpRkqalde9",
        "colab": {
          "base_uri": "https://localhost:8080/"
        },
        "outputId": "403ae8fc-3524-41bf-e1d5-ada4182194af"
      },
      "source": [
        "features = model_dt.named_steps['onehotencoder'].get_feature_names()\n",
        "gini = model_dt.named_steps['decisiontreeclassifier'].feature_importances_\n",
        "pd.Series(data=gini, index=features).sort_values(key=abs).tail(10).plot(kind='barh')\n",
        "plt.ylabel('features')\n",
        "plt.xlabel('gini importance')"
      ],
      "execution_count": null,
      "outputs": [
        {
          "output_type": "execute_result",
          "data": {
            "text/plain": [
              "Text(0.5, 111.5, 'gini importance')"
            ]
          },
          "metadata": {
            "tags": []
          },
          "execution_count": 30
        }
      ]
    },
    {
      "cell_type": "code",
      "metadata": {
        "colab": {
          "base_uri": "https://localhost:8080/",
          "height": 206
        },
        "id": "uQAFC00qKvG2",
        "outputId": "210da212-011e-4328-fdd9-2b7597b4ad38"
      },
      "source": [
        "sample_submission = pd.read_csv('sample_submission.csv')\n",
        "sample_submission.head()"
      ],
      "execution_count": null,
      "outputs": [
        {
          "output_type": "execute_result",
          "data": {
            "text/html": [
              "<div>\n",
              "<style scoped>\n",
              "    .dataframe tbody tr th:only-of-type {\n",
              "        vertical-align: middle;\n",
              "    }\n",
              "\n",
              "    .dataframe tbody tr th {\n",
              "        vertical-align: top;\n",
              "    }\n",
              "\n",
              "    .dataframe thead th {\n",
              "        text-align: right;\n",
              "    }\n",
              "</style>\n",
              "<table border=\"1\" class=\"dataframe\">\n",
              "  <thead>\n",
              "    <tr style=\"text-align: right;\">\n",
              "      <th></th>\n",
              "      <th>id</th>\n",
              "      <th>status_group</th>\n",
              "    </tr>\n",
              "  </thead>\n",
              "  <tbody>\n",
              "    <tr>\n",
              "      <th>0</th>\n",
              "      <td>37098</td>\n",
              "      <td>functional</td>\n",
              "    </tr>\n",
              "    <tr>\n",
              "      <th>1</th>\n",
              "      <td>14530</td>\n",
              "      <td>functional</td>\n",
              "    </tr>\n",
              "    <tr>\n",
              "      <th>2</th>\n",
              "      <td>62607</td>\n",
              "      <td>functional</td>\n",
              "    </tr>\n",
              "    <tr>\n",
              "      <th>3</th>\n",
              "      <td>46053</td>\n",
              "      <td>functional</td>\n",
              "    </tr>\n",
              "    <tr>\n",
              "      <th>4</th>\n",
              "      <td>47083</td>\n",
              "      <td>functional</td>\n",
              "    </tr>\n",
              "  </tbody>\n",
              "</table>\n",
              "</div>"
            ],
            "text/plain": [
              "      id status_group\n",
              "0  37098   functional\n",
              "1  14530   functional\n",
              "2  62607   functional\n",
              "3  46053   functional\n",
              "4  47083   functional"
            ]
          },
          "metadata": {
            "tags": []
          },
          "execution_count": 33
        }
      ]
    },
    {
      "cell_type": "code",
      "metadata": {
        "id": "NbQF2RKOMWzS"
      },
      "source": [
        "# generate CSV\n",
        "sample_submission.to_csv('sample_submission_Vignesh.csv', index=False)"
      ],
      "execution_count": null,
      "outputs": []
    },
    {
      "cell_type": "code",
      "metadata": {
        "colab": {
          "base_uri": "https://localhost:8080/",
          "height": 17
        },
        "id": "ce4Rv3WGMZ3i",
        "outputId": "0b0059ff-cd2f-4f9c-d362-beee0b98de58"
      },
      "source": [
        "# download the file\n",
        "from google.colab import files\n",
        "files.download(\"sample_submission_Vignesh.csv\")"
      ],
      "execution_count": null,
      "outputs": [
        {
          "output_type": "display_data",
          "data": {
            "application/javascript": [
              "\n",
              "    async function download(id, filename, size) {\n",
              "      if (!google.colab.kernel.accessAllowed) {\n",
              "        return;\n",
              "      }\n",
              "      const div = document.createElement('div');\n",
              "      const label = document.createElement('label');\n",
              "      label.textContent = `Downloading \"${filename}\": `;\n",
              "      div.appendChild(label);\n",
              "      const progress = document.createElement('progress');\n",
              "      progress.max = size;\n",
              "      div.appendChild(progress);\n",
              "      document.body.appendChild(div);\n",
              "\n",
              "      const buffers = [];\n",
              "      let downloaded = 0;\n",
              "\n",
              "      const channel = await google.colab.kernel.comms.open(id);\n",
              "      // Send a message to notify the kernel that we're ready.\n",
              "      channel.send({})\n",
              "\n",
              "      for await (const message of channel.messages) {\n",
              "        // Send a message to notify the kernel that we're ready.\n",
              "        channel.send({})\n",
              "        if (message.buffers) {\n",
              "          for (const buffer of message.buffers) {\n",
              "            buffers.push(buffer);\n",
              "            downloaded += buffer.byteLength;\n",
              "            progress.value = downloaded;\n",
              "          }\n",
              "        }\n",
              "      }\n",
              "      const blob = new Blob(buffers, {type: 'application/binary'});\n",
              "      const a = document.createElement('a');\n",
              "      a.href = window.URL.createObjectURL(blob);\n",
              "      a.download = filename;\n",
              "      div.appendChild(a);\n",
              "      a.click();\n",
              "      div.remove();\n",
              "    }\n",
              "  "
            ],
            "text/plain": [
              "<IPython.core.display.Javascript object>"
            ]
          },
          "metadata": {
            "tags": []
          }
        },
        {
          "output_type": "display_data",
          "data": {
            "application/javascript": [
              "download(\"download_848c5268-d896-42a3-a15d-24ef62a8189c\", \"sample_submission_Vignesh.csv\", 200201)"
            ],
            "text/plain": [
              "<IPython.core.display.Javascript object>"
            ]
          },
          "metadata": {
            "tags": []
          }
        }
      ]
    },
    {
      "cell_type": "code",
      "metadata": {
        "id": "5vJ1IMZzN_6B"
      },
      "source": [
        "X_test = pd.read_csv('test_features.csv')\n",
        "\n"
      ],
      "execution_count": null,
      "outputs": []
    },
    {
      "cell_type": "code",
      "metadata": {
        "colab": {
          "base_uri": "https://localhost:8080/",
          "height": 431
        },
        "id": "fMoMTFwrPhYA",
        "outputId": "2326857b-3fb4-40ff-8c61-ec411f698dae"
      },
      "source": [
        "X_test = wrangle(X_test)\n",
        "\n",
        "X_test.head()\n",
        "\n"
      ],
      "execution_count": null,
      "outputs": [
        {
          "output_type": "execute_result",
          "data": {
            "text/html": [
              "<div>\n",
              "<style scoped>\n",
              "    .dataframe tbody tr th:only-of-type {\n",
              "        vertical-align: middle;\n",
              "    }\n",
              "\n",
              "    .dataframe tbody tr th {\n",
              "        vertical-align: top;\n",
              "    }\n",
              "\n",
              "    .dataframe thead th {\n",
              "        text-align: right;\n",
              "    }\n",
              "</style>\n",
              "<table border=\"1\" class=\"dataframe\">\n",
              "  <thead>\n",
              "    <tr style=\"text-align: right;\">\n",
              "      <th></th>\n",
              "      <th>amount_tsh</th>\n",
              "      <th>date_recorded</th>\n",
              "      <th>funder</th>\n",
              "      <th>gps_height</th>\n",
              "      <th>installer</th>\n",
              "      <th>longitude</th>\n",
              "      <th>latitude</th>\n",
              "      <th>wpt_name</th>\n",
              "      <th>num_private</th>\n",
              "      <th>basin</th>\n",
              "      <th>subvillage</th>\n",
              "      <th>region</th>\n",
              "      <th>region_code</th>\n",
              "      <th>district_code</th>\n",
              "      <th>lga</th>\n",
              "      <th>ward</th>\n",
              "      <th>population</th>\n",
              "      <th>public_meeting</th>\n",
              "      <th>recorded_by</th>\n",
              "      <th>scheme_management</th>\n",
              "      <th>scheme_name</th>\n",
              "      <th>permit</th>\n",
              "      <th>construction_year</th>\n",
              "      <th>extraction_type</th>\n",
              "      <th>extraction_type_group</th>\n",
              "      <th>extraction_type_class</th>\n",
              "      <th>management</th>\n",
              "      <th>management_group</th>\n",
              "      <th>payment</th>\n",
              "      <th>payment_type</th>\n",
              "      <th>water_quality</th>\n",
              "      <th>quality_group</th>\n",
              "      <th>quantity</th>\n",
              "      <th>quantity_group</th>\n",
              "      <th>source</th>\n",
              "      <th>source_type</th>\n",
              "      <th>source_class</th>\n",
              "      <th>waterpoint_type</th>\n",
              "      <th>waterpoint_type_group</th>\n",
              "    </tr>\n",
              "    <tr>\n",
              "      <th>id</th>\n",
              "      <th></th>\n",
              "      <th></th>\n",
              "      <th></th>\n",
              "      <th></th>\n",
              "      <th></th>\n",
              "      <th></th>\n",
              "      <th></th>\n",
              "      <th></th>\n",
              "      <th></th>\n",
              "      <th></th>\n",
              "      <th></th>\n",
              "      <th></th>\n",
              "      <th></th>\n",
              "      <th></th>\n",
              "      <th></th>\n",
              "      <th></th>\n",
              "      <th></th>\n",
              "      <th></th>\n",
              "      <th></th>\n",
              "      <th></th>\n",
              "      <th></th>\n",
              "      <th></th>\n",
              "      <th></th>\n",
              "      <th></th>\n",
              "      <th></th>\n",
              "      <th></th>\n",
              "      <th></th>\n",
              "      <th></th>\n",
              "      <th></th>\n",
              "      <th></th>\n",
              "      <th></th>\n",
              "      <th></th>\n",
              "      <th></th>\n",
              "      <th></th>\n",
              "      <th></th>\n",
              "      <th></th>\n",
              "      <th></th>\n",
              "      <th></th>\n",
              "      <th></th>\n",
              "    </tr>\n",
              "  </thead>\n",
              "  <tbody>\n",
              "    <tr>\n",
              "      <th>37098</th>\n",
              "      <td>0.0</td>\n",
              "      <td>2012-10-09</td>\n",
              "      <td>Rural Water Supply And Sanitat</td>\n",
              "      <td>0</td>\n",
              "      <td>DWE</td>\n",
              "      <td>31.985658</td>\n",
              "      <td>-3.596360</td>\n",
              "      <td>Kasela</td>\n",
              "      <td>0</td>\n",
              "      <td>Lake Tanganyika</td>\n",
              "      <td>Bufanka Centre</td>\n",
              "      <td>Shinyanga</td>\n",
              "      <td>17</td>\n",
              "      <td>5</td>\n",
              "      <td>Bukombe</td>\n",
              "      <td>Iyogela</td>\n",
              "      <td>0</td>\n",
              "      <td>True</td>\n",
              "      <td>GeoData Consultants Ltd</td>\n",
              "      <td>WUG</td>\n",
              "      <td>NaN</td>\n",
              "      <td>True</td>\n",
              "      <td>0</td>\n",
              "      <td>other</td>\n",
              "      <td>other</td>\n",
              "      <td>other</td>\n",
              "      <td>wug</td>\n",
              "      <td>user-group</td>\n",
              "      <td>unknown</td>\n",
              "      <td>unknown</td>\n",
              "      <td>soft</td>\n",
              "      <td>good</td>\n",
              "      <td>dry</td>\n",
              "      <td>dry</td>\n",
              "      <td>shallow well</td>\n",
              "      <td>shallow well</td>\n",
              "      <td>groundwater</td>\n",
              "      <td>other</td>\n",
              "      <td>other</td>\n",
              "    </tr>\n",
              "    <tr>\n",
              "      <th>14530</th>\n",
              "      <td>0.0</td>\n",
              "      <td>2012-11-03</td>\n",
              "      <td>Halmashauri Ya Manispa Tabora</td>\n",
              "      <td>0</td>\n",
              "      <td>Halmashauri ya manispa tabora</td>\n",
              "      <td>32.832815</td>\n",
              "      <td>-4.944937</td>\n",
              "      <td>Mbugani</td>\n",
              "      <td>0</td>\n",
              "      <td>Lake Tanganyika</td>\n",
              "      <td>Maendeleo</td>\n",
              "      <td>Tabora</td>\n",
              "      <td>14</td>\n",
              "      <td>6</td>\n",
              "      <td>Tabora Urban</td>\n",
              "      <td>Uyui</td>\n",
              "      <td>0</td>\n",
              "      <td>True</td>\n",
              "      <td>GeoData Consultants Ltd</td>\n",
              "      <td>VWC</td>\n",
              "      <td>NaN</td>\n",
              "      <td>True</td>\n",
              "      <td>0</td>\n",
              "      <td>india mark ii</td>\n",
              "      <td>india mark ii</td>\n",
              "      <td>handpump</td>\n",
              "      <td>vwc</td>\n",
              "      <td>user-group</td>\n",
              "      <td>never pay</td>\n",
              "      <td>never pay</td>\n",
              "      <td>milky</td>\n",
              "      <td>milky</td>\n",
              "      <td>insufficient</td>\n",
              "      <td>insufficient</td>\n",
              "      <td>shallow well</td>\n",
              "      <td>shallow well</td>\n",
              "      <td>groundwater</td>\n",
              "      <td>hand pump</td>\n",
              "      <td>hand pump</td>\n",
              "    </tr>\n",
              "    <tr>\n",
              "      <th>62607</th>\n",
              "      <td>10.0</td>\n",
              "      <td>2013-02-25</td>\n",
              "      <td>Siter Fransis</td>\n",
              "      <td>1675</td>\n",
              "      <td>DWE</td>\n",
              "      <td>35.488289</td>\n",
              "      <td>-4.242048</td>\n",
              "      <td>Kwa Leosi</td>\n",
              "      <td>0</td>\n",
              "      <td>Internal</td>\n",
              "      <td>Qatabradiki</td>\n",
              "      <td>Manyara</td>\n",
              "      <td>21</td>\n",
              "      <td>1</td>\n",
              "      <td>Babati</td>\n",
              "      <td>Dareda</td>\n",
              "      <td>148</td>\n",
              "      <td>True</td>\n",
              "      <td>GeoData Consultants Ltd</td>\n",
              "      <td>Water Board</td>\n",
              "      <td>NaN</td>\n",
              "      <td>True</td>\n",
              "      <td>2008</td>\n",
              "      <td>gravity</td>\n",
              "      <td>gravity</td>\n",
              "      <td>gravity</td>\n",
              "      <td>water board</td>\n",
              "      <td>user-group</td>\n",
              "      <td>pay per bucket</td>\n",
              "      <td>per bucket</td>\n",
              "      <td>soft</td>\n",
              "      <td>good</td>\n",
              "      <td>insufficient</td>\n",
              "      <td>insufficient</td>\n",
              "      <td>spring</td>\n",
              "      <td>spring</td>\n",
              "      <td>groundwater</td>\n",
              "      <td>communal standpipe</td>\n",
              "      <td>communal standpipe</td>\n",
              "    </tr>\n",
              "    <tr>\n",
              "      <th>46053</th>\n",
              "      <td>0.0</td>\n",
              "      <td>2011-08-13</td>\n",
              "      <td>Kkkt</td>\n",
              "      <td>0</td>\n",
              "      <td>KKKT</td>\n",
              "      <td>33.140828</td>\n",
              "      <td>-9.059386</td>\n",
              "      <td>Jangi</td>\n",
              "      <td>0</td>\n",
              "      <td>Lake Rukwa</td>\n",
              "      <td>Chawama</td>\n",
              "      <td>Mbeya</td>\n",
              "      <td>12</td>\n",
              "      <td>6</td>\n",
              "      <td>Mbozi</td>\n",
              "      <td>Iyula</td>\n",
              "      <td>0</td>\n",
              "      <td>False</td>\n",
              "      <td>GeoData Consultants Ltd</td>\n",
              "      <td>VWC</td>\n",
              "      <td>NaN</td>\n",
              "      <td>False</td>\n",
              "      <td>0</td>\n",
              "      <td>nira/tanira</td>\n",
              "      <td>nira/tanira</td>\n",
              "      <td>handpump</td>\n",
              "      <td>vwc</td>\n",
              "      <td>user-group</td>\n",
              "      <td>never pay</td>\n",
              "      <td>never pay</td>\n",
              "      <td>soft</td>\n",
              "      <td>good</td>\n",
              "      <td>seasonal</td>\n",
              "      <td>seasonal</td>\n",
              "      <td>shallow well</td>\n",
              "      <td>shallow well</td>\n",
              "      <td>groundwater</td>\n",
              "      <td>hand pump</td>\n",
              "      <td>hand pump</td>\n",
              "    </tr>\n",
              "    <tr>\n",
              "      <th>47083</th>\n",
              "      <td>50.0</td>\n",
              "      <td>2013-02-08</td>\n",
              "      <td>Wateraid</td>\n",
              "      <td>1109</td>\n",
              "      <td>SEMA</td>\n",
              "      <td>34.217077</td>\n",
              "      <td>-4.430529</td>\n",
              "      <td>Mkima</td>\n",
              "      <td>0</td>\n",
              "      <td>Internal</td>\n",
              "      <td>Mkima</td>\n",
              "      <td>Singida</td>\n",
              "      <td>13</td>\n",
              "      <td>1</td>\n",
              "      <td>Iramba</td>\n",
              "      <td>Mtoa</td>\n",
              "      <td>235</td>\n",
              "      <td>True</td>\n",
              "      <td>GeoData Consultants Ltd</td>\n",
              "      <td>WUA</td>\n",
              "      <td>Tyeme water supply</td>\n",
              "      <td>True</td>\n",
              "      <td>2011</td>\n",
              "      <td>mono</td>\n",
              "      <td>mono</td>\n",
              "      <td>motorpump</td>\n",
              "      <td>wua</td>\n",
              "      <td>user-group</td>\n",
              "      <td>pay per bucket</td>\n",
              "      <td>per bucket</td>\n",
              "      <td>soft</td>\n",
              "      <td>good</td>\n",
              "      <td>enough</td>\n",
              "      <td>enough</td>\n",
              "      <td>machine dbh</td>\n",
              "      <td>borehole</td>\n",
              "      <td>groundwater</td>\n",
              "      <td>communal standpipe multiple</td>\n",
              "      <td>communal standpipe</td>\n",
              "    </tr>\n",
              "  </tbody>\n",
              "</table>\n",
              "</div>"
            ],
            "text/plain": [
              "       amount_tsh  ... waterpoint_type_group\n",
              "id                 ...                      \n",
              "37098         0.0  ...                 other\n",
              "14530         0.0  ...             hand pump\n",
              "62607        10.0  ...    communal standpipe\n",
              "46053         0.0  ...             hand pump\n",
              "47083        50.0  ...    communal standpipe\n",
              "\n",
              "[5 rows x 39 columns]"
            ]
          },
          "metadata": {
            "tags": []
          },
          "execution_count": 37
        }
      ]
    },
    {
      "cell_type": "code",
      "metadata": {
        "colab": {
          "base_uri": "https://localhost:8080/"
        },
        "id": "joyrUVyaIMAh",
        "outputId": "18e1ae60-708b-499c-eb1e-56363fb38c38"
      },
      "source": [
        "(X_test.columns)"
      ],
      "execution_count": null,
      "outputs": [
        {
          "output_type": "execute_result",
          "data": {
            "text/plain": [
              "39"
            ]
          },
          "metadata": {
            "tags": []
          },
          "execution_count": 42
        }
      ]
    },
    {
      "cell_type": "code",
      "metadata": {
        "colab": {
          "base_uri": "https://localhost:8080/"
        },
        "id": "8hu-3QxNIPrJ",
        "outputId": "f2fe3b73-d135-4855-acfa-c860b0dc3bda"
      },
      "source": [
        "(X_train.columns)"
      ],
      "execution_count": null,
      "outputs": [
        {
          "output_type": "execute_result",
          "data": {
            "text/plain": [
              "Index(['amount_tsh', 'gps_height', 'longitude', 'latitude', 'basin', 'region',\n",
              "       'region_code', 'district_code', 'population', 'public_meeting',\n",
              "       'scheme_management', 'permit', 'construction_year', 'extraction_type',\n",
              "       'extraction_type_group', 'extraction_type_class', 'management',\n",
              "       'management_group', 'payment', 'payment_type', 'water_quality',\n",
              "       'quality_group', 'quantity', 'source', 'source_type', 'source_class',\n",
              "       'waterpoint_type', 'waterpoint_type_group'],\n",
              "      dtype='object')"
            ]
          },
          "metadata": {
            "tags": []
          },
          "execution_count": 44
        }
      ]
    },
    {
      "cell_type": "code",
      "metadata": {
        "colab": {
          "base_uri": "https://localhost:8080/"
        },
        "id": "Ufr5L4vvIYRV",
        "outputId": "b2b2e129-699a-4e8d-8a75-2cbc39f7f2a7"
      },
      "source": [
        "set(X_test.columns) - set(X_train.columns)"
      ],
      "execution_count": null,
      "outputs": [
        {
          "output_type": "execute_result",
          "data": {
            "text/plain": [
              "{'date_recorded',\n",
              " 'funder',\n",
              " 'installer',\n",
              " 'lga',\n",
              " 'num_private',\n",
              " 'quantity_group',\n",
              " 'recorded_by',\n",
              " 'scheme_name',\n",
              " 'subvillage',\n",
              " 'ward',\n",
              " 'wpt_name'}"
            ]
          },
          "metadata": {
            "tags": []
          },
          "execution_count": 47
        }
      ]
    },
    {
      "cell_type": "code",
      "metadata": {
        "colab": {
          "base_uri": "https://localhost:8080/"
        },
        "id": "vo3iRWuAP7ze",
        "outputId": "90e118b1-737b-4446-d233-ee7282e96392"
      },
      "source": [
        "def Diff(li1, li2):\n",
        "#     return list(set(li1) - set(li2)) + list(set(li2) - set(li1))\n",
        "     return list(set(li1) - set(li2))\n",
        "\n",
        "\n",
        "cols_to_drop = Diff(X_test.columns, X_train.columns)\n",
        "\n",
        "cols_to_drop"
      ],
      "execution_count": null,
      "outputs": [
        {
          "output_type": "execute_result",
          "data": {
            "text/plain": [
              "['wpt_name',\n",
              " 'ward',\n",
              " 'date_recorded',\n",
              " 'num_private',\n",
              " 'installer',\n",
              " 'lga',\n",
              " 'recorded_by',\n",
              " 'quantity_group',\n",
              " 'scheme_name',\n",
              " 'subvillage',\n",
              " 'funder']"
            ]
          },
          "metadata": {
            "tags": []
          },
          "execution_count": 49
        }
      ]
    },
    {
      "cell_type": "code",
      "metadata": {
        "id": "vuKF63Z2QEkO"
      },
      "source": [
        "X_test = X_test.drop(columns=cols_to_drop)"
      ],
      "execution_count": null,
      "outputs": []
    },
    {
      "cell_type": "code",
      "metadata": {
        "id": "C2ZQ-YixMdkh"
      },
      "source": [
        "predictions = pd.DataFrame(data=model_lr.predict(X_test), index=X_test.index)\n",
        "\n",
        "predictions.columns = ['status_group']\n",
        "\n",
        "predictions.insert(0, 'id', predictions.index)\n",
        "\n",
        "predictions = predictions.reset_index(drop=True)\n"
      ],
      "execution_count": null,
      "outputs": []
    },
    {
      "cell_type": "code",
      "metadata": {
        "id": "3fvW-3hMNQBM",
        "colab": {
          "base_uri": "https://localhost:8080/",
          "height": 17
        },
        "outputId": "3281c00a-6edb-4eeb-df52-b11a925eec0f"
      },
      "source": [
        "# generate CSV\n",
        "predictions.to_csv('sample_submission_Vignesh_class.csv', index=False)\n",
        "\n",
        "# download\n",
        "from google.colab import files\n",
        "files.download(\"sample_submission_Vignesh_class.csv\")"
      ],
      "execution_count": null,
      "outputs": [
        {
          "output_type": "display_data",
          "data": {
            "application/javascript": [
              "\n",
              "    async function download(id, filename, size) {\n",
              "      if (!google.colab.kernel.accessAllowed) {\n",
              "        return;\n",
              "      }\n",
              "      const div = document.createElement('div');\n",
              "      const label = document.createElement('label');\n",
              "      label.textContent = `Downloading \"${filename}\": `;\n",
              "      div.appendChild(label);\n",
              "      const progress = document.createElement('progress');\n",
              "      progress.max = size;\n",
              "      div.appendChild(progress);\n",
              "      document.body.appendChild(div);\n",
              "\n",
              "      const buffers = [];\n",
              "      let downloaded = 0;\n",
              "\n",
              "      const channel = await google.colab.kernel.comms.open(id);\n",
              "      // Send a message to notify the kernel that we're ready.\n",
              "      channel.send({})\n",
              "\n",
              "      for await (const message of channel.messages) {\n",
              "        // Send a message to notify the kernel that we're ready.\n",
              "        channel.send({})\n",
              "        if (message.buffers) {\n",
              "          for (const buffer of message.buffers) {\n",
              "            buffers.push(buffer);\n",
              "            downloaded += buffer.byteLength;\n",
              "            progress.value = downloaded;\n",
              "          }\n",
              "        }\n",
              "      }\n",
              "      const blob = new Blob(buffers, {type: 'application/binary'});\n",
              "      const a = document.createElement('a');\n",
              "      a.href = window.URL.createObjectURL(blob);\n",
              "      a.download = filename;\n",
              "      div.appendChild(a);\n",
              "      a.click();\n",
              "      div.remove();\n",
              "    }\n",
              "  "
            ],
            "text/plain": [
              "<IPython.core.display.Javascript object>"
            ]
          },
          "metadata": {
            "tags": []
          }
        },
        {
          "output_type": "display_data",
          "data": {
            "application/javascript": [
              "download(\"download_f726e71e-6e68-451a-806b-779d585fcace\", \"sample_submission_Vignesh_class.csv\", 227629)"
            ],
            "text/plain": [
              "<IPython.core.display.Javascript object>"
            ]
          },
          "metadata": {
            "tags": []
          }
        }
      ]
    },
    {
      "cell_type": "code",
      "metadata": {
        "colab": {
          "base_uri": "https://localhost:8080/"
        },
        "id": "E2GqLLPSLn7a",
        "outputId": "26426fdf-29a3-4785-bdfa-9825bd7e3bc7"
      },
      "source": [
        "from google.colab import drive\n",
        "drive.mount('/content/drive')"
      ],
      "execution_count": null,
      "outputs": [
        {
          "output_type": "stream",
          "text": [
            "Drive already mounted at /content/drive; to attempt to forcibly remount, call drive.mount(\"/content/drive\", force_remount=True).\n"
          ],
          "name": "stdout"
        }
      ]
    }
  ]
}