{
 "cells": [
  {
   "cell_type": "code",
   "execution_count": 6,
   "source": [
    "# Import libraries\r\n",
    "import numpy as np"
   ],
   "outputs": [],
   "metadata": {}
  },
  {
   "cell_type": "code",
   "execution_count": 7,
   "source": [
    "# Load the digits data\r\n",
    "\r\n",
    "# The deafult with 10 classes (digits 0-9)\r\n",
    "from sklearn import datasets\r\n",
    "digits = datasets.load_digits(n_class=10)\r\n",
    "\r\n",
    "# Create the feature matrix\r\n",
    "features = digits.data\r\n",
    "print('The shape of the feature matrix: ', features.shape)\r\n",
    "\r\n",
    "# Create the target array\r\n",
    "target = digits.target\r\n",
    "print('The shape of the target array: ', target.shape)\r\n",
    "print('The unique classes in the target: ', np.unique(target))"
   ],
   "outputs": [
    {
     "output_type": "stream",
     "name": "stdout",
     "text": [
      "The shape of the feature matrix:  (1797, 64)\n",
      "The shape of the target array:  (1797,)\n",
      "The unique classes in the target:  [0 1 2 3 4 5 6 7 8 9]\n"
     ]
    }
   ],
   "metadata": {}
  },
  {
   "cell_type": "code",
   "execution_count": 8,
   "source": [
    "# Instantiate the standardizier\r\n",
    "from sklearn.preprocessing import StandardScaler\r\n",
    "standardizer = StandardScaler()\r\n",
    "\r\n",
    "# Instantiate the classifier\r\n",
    "from sklearn.linear_model import LogisticRegression\r\n",
    "logreg = LogisticRegression(max_iter=150)\r\n",
    "\r\n",
    "# Create the pipeline\r\n",
    "from sklearn.pipeline import make_pipeline\r\n",
    "pipeline = make_pipeline(standardizer, logreg)\r\n",
    "\r\n",
    "# Instantiate the k-fold cross-validation \r\n",
    "from sklearn.model_selection import KFold, cross_val_score\r\n",
    "kfold_cv = KFold(n_splits=5, shuffle=True, random_state=11)"
   ],
   "outputs": [],
   "metadata": {}
  },
  {
   "cell_type": "code",
   "execution_count": 9,
   "source": [
    "# Fit the model using k-fold cross-validation\r\n",
    "cv_scores = cross_val_score(pipeline, features, target,\r\n",
    "                           cv=kfold_cv, scoring='accuracy')"
   ],
   "outputs": [],
   "metadata": {}
  },
  {
   "cell_type": "code",
   "execution_count": 10,
   "source": [
    "# Print the mean score\r\n",
    "print('All cv scores: ', cv_scores)\r\n",
    "\r\n",
    "# Print the mean score\r\n",
    "print('Mean of all cv scores: ', cv_scores.mean())"
   ],
   "outputs": [
    {
     "output_type": "stream",
     "name": "stdout",
     "text": [
      "All cv scores:  [0.97222222 0.96944444 0.95543175 0.97493036 0.98050139]\n",
      "Mean of all cv scores:  0.9705060352831941\n"
     ]
    }
   ],
   "metadata": {}
  },
  {
   "cell_type": "markdown",
   "source": [
    "# Sources\r\n",
    "- Jake VanderPlas, [Python Data Science Handbook, Chapter 5.3,](https://jakevdp.github.io/PythonDataScienceHandbook/05.03-hyperparameters-and-model-validation.html) Hyperparameters and Model Validation\r\n",
    "- Peter Worcester, [A Comparison of Grid Search and Randomized Search Using Scikit Learn](https://blog.usejournal.com/a-comparison-of-grid-search-and-randomized-search-using-scikit-learn-29823179bc85)\r\n",
    "- Ron Zacharski, [A Programmer’s Guide to Data Mining, Chapter 5,](http://guidetodatamining.com/chapter5/) first 10 pages, for a great explanation of cross-validation with examples and pictures\r\n",
    "- Sebastian Raschka, [Model Evaluation](https://sebastianraschka.com/blog/2018/model-evaluation-selection-part4.html)\r\n",
    "- [Scikit-Learn User Guide, 3.1 Cross-validation](https://scikit-learn.org/stable/modules/cross_validation.html)\r\n",
    "- [Scikit-Learn User Guide, 3.2 Tuning the hyper-parameters of an estimator](https://scikit-learn.org/stable/modules/grid_search.html)\r\n",
    "- [sklearn.model_selection.cross_val_score](https://scikit-learn.org/stable/modules/generated/sklearn.model_selection.cross_val_score.html)\r\n",
    "- [sklearn.model_selection.RandomizedSearchCV](https://scikit-learn.org/stable/modules/generated/sklearn.model_selection.RandomizedSearchCV.html)\r\n",
    "- [xgboost, Notes on Parameter Tuning](https://xgboost.readthedocs.io/en/latest/tutorials/param_tuning.html)"
   ],
   "metadata": {}
  }
 ],
 "metadata": {
  "kernelspec": {
   "name": "python3",
   "display_name": "Python 3.9.6 64-bit"
  },
  "language_info": {
   "codemirror_mode": {
    "name": "ipython",
    "version": 3
   },
   "file_extension": ".py",
   "mimetype": "text/x-python",
   "name": "python",
   "nbconvert_exporter": "python",
   "pygments_lexer": "ipython3",
   "version": "3.9.6"
  },
  "interpreter": {
   "hash": "63fd5069d213b44bf678585dea6b12cceca9941eaf7f819626cde1f2670de90d"
  }
 },
 "nbformat": 4,
 "nbformat_minor": 1
}